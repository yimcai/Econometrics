{
 "cells": [
  {
   "cell_type": "markdown",
   "metadata": {},
   "source": [
    "**1.** For a standard normal distributed variable $y$, the following rules of thumb apply: $P(−1 \\le y \\le 1)≈0.68, \n",
    " P(−2 \\le y \\le 2)≈0.95$. Transform these rules of thumb for a random variable $x \\sim N(\\mu, \\sigma)$."
   ]
  },
  {
   "cell_type": "markdown",
   "metadata": {},
   "source": [
    "> ${\\frac{x - \\mu}{\\sigma}} \\sim N(0,1)$ $\\Rightarrow$ $ P(1 \\le {\\frac{x - \\mu}{\\sigma}} \\le 1) \\approx 0.68, P(-2 \\le {\\frac{x - \\mu}{\\sigma}} \\le 2) \\approx 0.95$ "
   ]
  },
  {
   "cell_type": "markdown",
   "metadata": {},
   "source": [
    "__2.__ Let $z$ ~$\\chi^2(n)$. Derive the variance of $z$"
   ]
  },
  {
   "cell_type": "markdown",
   "metadata": {},
   "source": [
    "> Let $z= \\sum_{1}^{n}X_{i}^2$, where $X_{i} \\sim N(0, 1)$, then $z \\sim \\chi^2(n)$. $\\mu_{z} = E[\\sum_{1}^{n}X_{i}^2] = \\sum_{1}^{n}E[X_{i}^{2}] $.\n",
    "\n",
    "> $\\because$ $ E[X_{i}^2] = VAR[X_{i}] + E^2[X_{i}] = 1 + 0 =1$\n",
    "\n",
    "> $\\therefore $ $\\mu_{z} = E[\\sum_{1}^{n}X_{i}^2] = \\sum_{1}^{n}E[X_{i}^{2}] = n$. \n",
    "\n",
    "> $Var(z) = E[(z-\\mu_{z})^2] = \\sum_{i}^{n}E[X_i^4] + \\sum_{i}^{n}\\sum_{j}^{n}E[X_i^2 X_j^2]_{(i \\neq j)} -n^2   =  3n + n(n-1) -n^2 =2n $"
   ]
  },
  {
   "cell_type": "markdown",
   "metadata": {},
   "source": [
    "__3.__ Let $z_1$ and $z_2$ be two independent $\\chi^2$ random variables with degree of freedom $k_1$ and $k_2$. Show that $z_1 + z_2 \\sim \\chi^2(k_1 + k_2) $"
   ]
  },
  {
   "cell_type": "markdown",
   "metadata": {},
   "source": [
    "> Proven by the definition of $\\chi^2$ distribution. "
   ]
  },
  {
   "cell_type": "markdown",
   "metadata": {},
   "source": [
    "__4.__ Let $X$ be an $(n \\times 1)$ random vector that follows the multivariate normal distribution with mean vector $\\mu$ and covariance matrix $\\Sigma $. Let $L$ be invertible matrix such that $LL^{'}= \\Sigma $.\n",
    "\n",
    "(a) What is the distribution of $y = L^{-1}(x-\\mu)$\n",
    "\n",
    "(b) Show that $z = (x-\\mu)^{'}\\Sigma^{-1}(x -\\mu)$ follows the $\\chi^2(n)$ distribution. "
   ]
  },
  {
   "cell_type": "markdown",
   "metadata": {},
   "source": []
  },
  {
   "cell_type": "markdown",
   "metadata": {},
   "source": [
    "__5.__ Let $y$ be an $(n \\times 1)$ random vector, $y \\sim N(0,1)$. Let $z$ be a random variable, $z \\sim \\chi^2(k)$, independent of from y. The variable $x$ is defined by \n",
    "$ x = \\frac{1}{ \\sqrt{ z/k }}y$. Derive the distribution of $x^{'}x / n$"
   ]
  },
  {
   "cell_type": "markdown",
   "metadata": {},
   "source": []
  }
 ],
 "metadata": {
  "kernelspec": {
   "display_name": "Python 3",
   "language": "python",
   "name": "python3"
  },
  "language_info": {
   "codemirror_mode": {
    "name": "ipython",
    "version": 3
   },
   "file_extension": ".py",
   "mimetype": "text/x-python",
   "name": "python",
   "nbconvert_exporter": "python",
   "pygments_lexer": "ipython3",
   "version": "3.6.1"
  }
 },
 "nbformat": 4,
 "nbformat_minor": 2
}
