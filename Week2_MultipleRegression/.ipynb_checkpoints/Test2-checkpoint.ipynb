{
 "cells": [
  {
   "cell_type": "code",
   "execution_count": 14,
   "metadata": {},
   "outputs": [
    {
     "name": "stderr",
     "output_type": "stream",
     "text": [
      "/Users/yimingcai/anaconda/lib/python3.6/site-packages/statsmodels/compat/pandas.py:56: FutureWarning: The pandas.core.datetools module is deprecated and will be removed in a future version. Please use the pandas.tseries module instead.\n",
      "  from pandas.core import datetools\n"
     ]
    }
   ],
   "source": [
    "import pandas as pd\n",
    "import numpy as np \n",
    "from patsy import  dmatrices\n",
    "import statsmodels.api  as sm"
   ]
  },
  {
   "cell_type": "code",
   "execution_count": 9,
   "metadata": {
    "collapsed": true
   },
   "outputs": [],
   "source": [
    "df  = pd.read_excel(\"Dataset2.xls\")"
   ]
  },
  {
   "cell_type": "code",
   "execution_count": 12,
   "metadata": {},
   "outputs": [],
   "source": [
    "y, X = dmatrices(\"np.log(Wage) ~ Female + Age + Educ + Parttime\",data= df)"
   ]
  },
  {
   "cell_type": "code",
   "execution_count": 16,
   "metadata": {},
   "outputs": [],
   "source": [
    "mod =sm.OLS(y,X).fit()"
   ]
  },
  {
   "cell_type": "code",
   "execution_count": 23,
   "metadata": {},
   "outputs": [],
   "source": [
    "x1, x2 = X[:, :2], X[:, 2:]"
   ]
  },
  {
   "cell_type": "code",
   "execution_count": 30,
   "metadata": {},
   "outputs": [],
   "source": [
    "P = np.linalg.inv(x1.T.dot(x1)).dot(x1.T).dot(x2)"
   ]
  },
  {
   "cell_type": "code",
   "execution_count": 31,
   "metadata": {},
   "outputs": [
    {
     "data": {
      "text/plain": [
       "array([[ 40.05063291,   2.25949367,   0.19620253],\n",
       "       [ -0.11041552,  -0.49318932,   0.24944964]])"
      ]
     },
     "execution_count": 31,
     "metadata": {},
     "output_type": "execute_result"
    }
   ],
   "source": [
    "P"
   ]
  },
  {
   "cell_type": "code",
   "execution_count": 39,
   "metadata": {},
   "outputs": [
    {
     "data": {
      "text/plain": [
       "array([[ 4.73364434],\n",
       "       [-0.25064253]])"
      ]
     },
     "execution_count": 39,
     "metadata": {},
     "output_type": "execute_result"
    }
   ],
   "source": [
    "b_r = np.linalg.inv(x1.T.dot(x1)).dot(x1.T).dot(y)\n",
    "b_r"
   ]
  },
  {
   "cell_type": "code",
   "execution_count": 32,
   "metadata": {},
   "outputs": [
    {
     "data": {
      "text/plain": [
       "array([ 3.05268522, -0.04110102,  0.03060617,  0.23317822, -0.36544893])"
      ]
     },
     "execution_count": 32,
     "metadata": {},
     "output_type": "execute_result"
    }
   ],
   "source": [
    "mod.params"
   ]
  },
  {
   "cell_type": "code",
   "execution_count": 17,
   "metadata": {},
   "outputs": [
    {
     "name": "stdout",
     "output_type": "stream",
     "text": [
      "                            OLS Regression Results                            \n",
      "==============================================================================\n",
      "Dep. Variable:           np.log(Wage)   R-squared:                       0.704\n",
      "Model:                            OLS   Adj. R-squared:                  0.702\n",
      "Method:                 Least Squares   F-statistic:                     294.3\n",
      "Date:                Tue, 17 Apr 2018   Prob (F-statistic):          2.50e-129\n",
      "Time:                        22:36:21   Log-Likelihood:                -4.1913\n",
      "No. Observations:                 500   AIC:                             18.38\n",
      "Df Residuals:                     495   BIC:                             39.46\n",
      "Df Model:                           4                                         \n",
      "Covariance Type:            nonrobust                                         \n",
      "==============================================================================\n",
      "                 coef    std err          t      P>|t|      [0.025      0.975]\n",
      "------------------------------------------------------------------------------\n",
      "Intercept      3.0527      0.055     55.168      0.000       2.944       3.161\n",
      "Female        -0.0411      0.025     -1.663      0.097      -0.090       0.007\n",
      "Age            0.0306      0.001     24.041      0.000       0.028       0.033\n",
      "Educ           0.2332      0.011     21.874      0.000       0.212       0.254\n",
      "Parttime      -0.3654      0.032    -11.576      0.000      -0.427      -0.303\n",
      "==============================================================================\n",
      "Omnibus:                        0.975   Durbin-Watson:                   1.874\n",
      "Prob(Omnibus):                  0.614   Jarque-Bera (JB):                0.787\n",
      "Skew:                           0.001   Prob(JB):                        0.675\n",
      "Kurtosis:                       3.194   Cond. No.                         223.\n",
      "==============================================================================\n",
      "\n",
      "Warnings:\n",
      "[1] Standard Errors assume that the covariance matrix of the errors is correctly specified.\n"
     ]
    }
   ],
   "source": [
    "print (mod.summary())"
   ]
  },
  {
   "cell_type": "code",
   "execution_count": null,
   "metadata": {
    "collapsed": true
   },
   "outputs": [],
   "source": [
    "y_r, X_r = dmatrices(\"\", data= df)\n",
    "mod_r = sm.OLS(y_r, X_r).fit()"
   ]
  },
  {
   "cell_type": "code",
   "execution_count": 18,
   "metadata": {
    "collapsed": true
   },
   "outputs": [],
   "source": [
    "y2, X2 = dmatrices(\"Age~ Female\",data= df)"
   ]
  },
  {
   "cell_type": "code",
   "execution_count": 20,
   "metadata": {},
   "outputs": [
    {
     "name": "stdout",
     "output_type": "stream",
     "text": [
      "                            OLS Regression Results                            \n",
      "==============================================================================\n",
      "Dep. Variable:                    Age   R-squared:                       0.000\n",
      "Model:                            OLS   Adj. R-squared:                 -0.002\n",
      "Method:                 Least Squares   F-statistic:                   0.01205\n",
      "Date:                Tue, 17 Apr 2018   Prob (F-statistic):              0.913\n",
      "Time:                        22:39:58   Log-Likelihood:                -1900.3\n",
      "No. Observations:                 500   AIC:                             3805.\n",
      "Df Residuals:                     498   BIC:                             3813.\n",
      "Df Model:                           1                                         \n",
      "Covariance Type:            nonrobust                                         \n",
      "==============================================================================\n",
      "                 coef    std err          t      P>|t|      [0.025      0.975]\n",
      "------------------------------------------------------------------------------\n",
      "Intercept     40.0506      0.610     65.648      0.000      38.852      41.249\n",
      "Female        -0.1104      1.006     -0.110      0.913      -2.086       1.865\n",
      "==============================================================================\n",
      "Omnibus:                       24.059   Durbin-Watson:                   2.036\n",
      "Prob(Omnibus):                  0.000   Jarque-Bera (JB):               25.823\n",
      "Skew:                           0.536   Prob(JB):                     2.47e-06\n",
      "Kurtosis:                       2.697   Cond. No.                         2.42\n",
      "==============================================================================\n",
      "\n",
      "Warnings:\n",
      "[1] Standard Errors assume that the covariance matrix of the errors is correctly specified.\n"
     ]
    }
   ],
   "source": [
    "mod2 =sm.OLS(y2,X2).fit()\n",
    "print (mod2.summary())"
   ]
  },
  {
   "cell_type": "code",
   "execution_count": 36,
   "metadata": {},
   "outputs": [],
   "source": [
    "P = np.array([[40.05, 2.26, 0.2],[-0.11, -0.49, 0.25]])\n",
    "b2 = np.array([0.031, 0.233, -0.365])"
   ]
  },
  {
   "cell_type": "code",
   "execution_count": 40,
   "metadata": {},
   "outputs": [
    {
     "data": {
      "text/plain": [
       "array([[ 40.05,   2.26,   0.2 ],\n",
       "       [ -0.11,  -0.49,   0.25]])"
      ]
     },
     "execution_count": 40,
     "metadata": {},
     "output_type": "execute_result"
    }
   ],
   "source": [
    "P"
   ]
  },
  {
   "cell_type": "code",
   "execution_count": 41,
   "metadata": {},
   "outputs": [
    {
     "data": {
      "text/plain": [
       "array([ 0.031,  0.233, -0.365])"
      ]
     },
     "execution_count": 41,
     "metadata": {},
     "output_type": "execute_result"
    }
   ],
   "source": [
    "b2"
   ]
  },
  {
   "cell_type": "code",
   "execution_count": 37,
   "metadata": {},
   "outputs": [
    {
     "data": {
      "text/plain": [
       "array([ 1.69513, -0.20883])"
      ]
     },
     "execution_count": 37,
     "metadata": {},
     "output_type": "execute_result"
    }
   ],
   "source": [
    "P.dot(b2)"
   ]
  },
  {
   "cell_type": "code",
   "execution_count": null,
   "metadata": {
    "collapsed": true
   },
   "outputs": [],
   "source": []
  }
 ],
 "metadata": {
  "kernelspec": {
   "display_name": "Python 3",
   "language": "python",
   "name": "python3"
  },
  "language_info": {
   "codemirror_mode": {
    "name": "ipython",
    "version": 3
   },
   "file_extension": ".py",
   "mimetype": "text/x-python",
   "name": "python",
   "nbconvert_exporter": "python",
   "pygments_lexer": "ipython3",
   "version": "3.6.1"
  }
 },
 "nbformat": 4,
 "nbformat_minor": 2
}
