{
 "cells": [
  {
   "cell_type": "code",
   "execution_count": 5,
   "metadata": {},
   "outputs": [
    {
     "name": "stdout",
     "output_type": "stream",
     "text": [
      "Exer3.1.ipynb                  TrainExer 3-2.pdf\r\n",
      "Exer3.3 Transformation .ipynb  TrainExer 3-3.pdf\r\n",
      "Exer_3.2.ipynb                 TrainExer3_3.xlsx\r\n",
      "Test3.pdf                      test3.xlsx\r\n",
      "TrainExer 3-1-corrected.txt\r\n"
     ]
    }
   ],
   "source": [
    "ls"
   ]
  },
  {
   "cell_type": "code",
   "execution_count": 107,
   "metadata": {},
   "outputs": [],
   "source": [
    "import pandas as pd\n",
    "import statsmodels.api as sm\n",
    "from patsy import dmatrices, dmatrix\n",
    "import numpy as np"
   ]
  },
  {
   "cell_type": "code",
   "execution_count": 108,
   "metadata": {
    "collapsed": true
   },
   "outputs": [],
   "source": [
    "df = pd.read_excel(\"TrainExer3_3.xlsx\")"
   ]
  },
  {
   "cell_type": "code",
   "execution_count": 109,
   "metadata": {},
   "outputs": [
    {
     "data": {
      "text/html": [
       "<div>\n",
       "<style scoped>\n",
       "    .dataframe tbody tr th:only-of-type {\n",
       "        vertical-align: middle;\n",
       "    }\n",
       "\n",
       "    .dataframe tbody tr th {\n",
       "        vertical-align: top;\n",
       "    }\n",
       "\n",
       "    .dataframe thead th {\n",
       "        text-align: right;\n",
       "    }\n",
       "</style>\n",
       "<table border=\"1\" class=\"dataframe\">\n",
       "  <thead>\n",
       "    <tr style=\"text-align: right;\">\n",
       "      <th></th>\n",
       "      <th>Year</th>\n",
       "      <th>Index</th>\n",
       "      <th>Dividends</th>\n",
       "      <th>Riskfree</th>\n",
       "      <th>LogEqPrem</th>\n",
       "      <th>BookMarket</th>\n",
       "      <th>NTIS</th>\n",
       "      <th>DivPrice</th>\n",
       "      <th>EarnPrice</th>\n",
       "      <th>Inflation</th>\n",
       "    </tr>\n",
       "  </thead>\n",
       "  <tbody>\n",
       "    <tr>\n",
       "      <th>0</th>\n",
       "      <td>1927</td>\n",
       "      <td>17.66</td>\n",
       "      <td>0.77</td>\n",
       "      <td>0.0317</td>\n",
       "      <td>0.280823</td>\n",
       "      <td>0.374689</td>\n",
       "      <td>0.073955</td>\n",
       "      <td>-3.132667</td>\n",
       "      <td>-2.766942</td>\n",
       "      <td>-0.021176</td>\n",
       "    </tr>\n",
       "    <tr>\n",
       "      <th>1</th>\n",
       "      <td>1928</td>\n",
       "      <td>24.35</td>\n",
       "      <td>0.85</td>\n",
       "      <td>0.0426</td>\n",
       "      <td>0.313824</td>\n",
       "      <td>0.259667</td>\n",
       "      <td>0.042639</td>\n",
       "      <td>-3.355051</td>\n",
       "      <td>-2.870448</td>\n",
       "      <td>-0.009793</td>\n",
       "    </tr>\n",
       "    <tr>\n",
       "      <th>2</th>\n",
       "      <td>1929</td>\n",
       "      <td>21.45</td>\n",
       "      <td>0.97</td>\n",
       "      <td>0.0303</td>\n",
       "      <td>-0.112428</td>\n",
       "      <td>0.338458</td>\n",
       "      <td>0.165576</td>\n",
       "      <td>-3.096184</td>\n",
       "      <td>-2.589490</td>\n",
       "      <td>0.001830</td>\n",
       "    </tr>\n",
       "    <tr>\n",
       "      <th>3</th>\n",
       "      <td>1930</td>\n",
       "      <td>15.34</td>\n",
       "      <td>0.98</td>\n",
       "      <td>0.0148</td>\n",
       "      <td>-0.288025</td>\n",
       "      <td>0.554745</td>\n",
       "      <td>0.131525</td>\n",
       "      <td>-2.750667</td>\n",
       "      <td>-2.760923</td>\n",
       "      <td>-0.060665</td>\n",
       "    </tr>\n",
       "    <tr>\n",
       "      <th>4</th>\n",
       "      <td>1931</td>\n",
       "      <td>8.12</td>\n",
       "      <td>0.82</td>\n",
       "      <td>0.0241</td>\n",
       "      <td>-0.563742</td>\n",
       "      <td>1.170732</td>\n",
       "      <td>-0.011032</td>\n",
       "      <td>-2.292781</td>\n",
       "      <td>-2.588626</td>\n",
       "      <td>-0.095711</td>\n",
       "    </tr>\n",
       "  </tbody>\n",
       "</table>\n",
       "</div>"
      ],
      "text/plain": [
       "   Year  Index  Dividends  Riskfree  LogEqPrem  BookMarket      NTIS  \\\n",
       "0  1927  17.66       0.77    0.0317   0.280823    0.374689  0.073955   \n",
       "1  1928  24.35       0.85    0.0426   0.313824    0.259667  0.042639   \n",
       "2  1929  21.45       0.97    0.0303  -0.112428    0.338458  0.165576   \n",
       "3  1930  15.34       0.98    0.0148  -0.288025    0.554745  0.131525   \n",
       "4  1931   8.12       0.82    0.0241  -0.563742    1.170732 -0.011032   \n",
       "\n",
       "   DivPrice  EarnPrice  Inflation  \n",
       "0 -3.132667  -2.766942  -0.021176  \n",
       "1 -3.355051  -2.870448  -0.009793  \n",
       "2 -3.096184  -2.589490   0.001830  \n",
       "3 -2.750667  -2.760923  -0.060665  \n",
       "4 -2.292781  -2.588626  -0.095711  "
      ]
     },
     "execution_count": 109,
     "metadata": {},
     "output_type": "execute_result"
    }
   ],
   "source": [
    "df.head()"
   ]
  },
  {
   "cell_type": "code",
   "execution_count": 159,
   "metadata": {
    "collapsed": true
   },
   "outputs": [],
   "source": [
    "df[\"Log_Index_diff\"] = np.log(df.Index).diff()"
   ]
  },
  {
   "cell_type": "code",
   "execution_count": 161,
   "metadata": {
    "collapsed": true
   },
   "outputs": [],
   "source": [
    "y, X  = dmatrices(\"Log_Index_diff ~ BookMarket + np.square(BookMarket)\" ,data= df)"
   ]
  },
  {
   "cell_type": "code",
   "execution_count": 162,
   "metadata": {
    "collapsed": true
   },
   "outputs": [],
   "source": [
    "mod = sm.OLS(y, X).fit()"
   ]
  },
  {
   "cell_type": "code",
   "execution_count": 163,
   "metadata": {},
   "outputs": [
    {
     "name": "stdout",
     "output_type": "stream",
     "text": [
      "                            OLS Regression Results                            \n",
      "==============================================================================\n",
      "Dep. Variable:         Log_Index_diff   R-squared:                       0.108\n",
      "Model:                            OLS   Adj. R-squared:                  0.087\n",
      "Method:                 Least Squares   F-statistic:                     5.050\n",
      "Date:                Sat, 05 May 2018   Prob (F-statistic):            0.00852\n",
      "Time:                        21:02:40   Log-Likelihood:                 22.599\n",
      "No. Observations:                  86   AIC:                            -39.20\n",
      "Df Residuals:                      83   BIC:                            -31.84\n",
      "Df Model:                           2                                         \n",
      "Covariance Type:            nonrobust                                         \n",
      "=========================================================================================\n",
      "                            coef    std err          t      P>|t|      [0.025      0.975]\n",
      "-----------------------------------------------------------------------------------------\n",
      "Intercept                 0.0563      0.089      0.633      0.528      -0.121       0.233\n",
      "BookMarket                0.2368      0.287      0.825      0.412      -0.334       0.808\n",
      "np.square(BookMarket)    -0.3467      0.213     -1.630      0.107      -0.770       0.076\n",
      "==============================================================================\n",
      "Omnibus:                       12.262   Durbin-Watson:                   1.895\n",
      "Prob(Omnibus):                  0.002   Jarque-Bera (JB):               12.826\n",
      "Skew:                          -0.856   Prob(JB):                      0.00164\n",
      "Kurtosis:                       3.804   Cond. No.                         22.2\n",
      "==============================================================================\n",
      "\n",
      "Warnings:\n",
      "[1] Standard Errors assume that the covariance matrix of the errors is correctly specified.\n"
     ]
    }
   ],
   "source": [
    "print (mod.summary())"
   ]
  },
  {
   "cell_type": "code",
   "execution_count": 164,
   "metadata": {
    "collapsed": true
   },
   "outputs": [],
   "source": [
    "y, X2  = dmatrices(\"np.log(Index) ~ BookMarket\" ,data= df)"
   ]
  },
  {
   "cell_type": "code",
   "execution_count": 165,
   "metadata": {
    "collapsed": true
   },
   "outputs": [],
   "source": [
    "mod2 = sm.OLS(y, X2).fit()"
   ]
  },
  {
   "cell_type": "code",
   "execution_count": 166,
   "metadata": {},
   "outputs": [
    {
     "name": "stdout",
     "output_type": "stream",
     "text": [
      "                            OLS Regression Results                            \n",
      "==============================================================================\n",
      "Dep. Variable:          np.log(Index)   R-squared:                       0.432\n",
      "Model:                            OLS   Adj. R-squared:                  0.426\n",
      "Method:                 Least Squares   F-statistic:                     64.76\n",
      "Date:                Sat, 05 May 2018   Prob (F-statistic):           4.54e-12\n",
      "Time:                        21:03:37   Log-Likelihood:                -143.25\n",
      "No. Observations:                  87   AIC:                             290.5\n",
      "Df Residuals:                      85   BIC:                             295.4\n",
      "Df Model:                           1                                         \n",
      "Covariance Type:            nonrobust                                         \n",
      "==============================================================================\n",
      "                 coef    std err          t      P>|t|      [0.025      0.975]\n",
      "------------------------------------------------------------------------------\n",
      "Intercept      7.0254      0.329     21.332      0.000       6.371       7.680\n",
      "BookMarket    -4.2061      0.523     -8.047      0.000      -5.245      -3.167\n",
      "==============================================================================\n",
      "Omnibus:                        9.273   Durbin-Watson:                   0.132\n",
      "Prob(Omnibus):                  0.010   Jarque-Bera (JB):                3.938\n",
      "Skew:                          -0.243   Prob(JB):                        0.140\n",
      "Kurtosis:                       2.078   Cond. No.                         5.17\n",
      "==============================================================================\n",
      "\n",
      "Warnings:\n",
      "[1] Standard Errors assume that the covariance matrix of the errors is correctly specified.\n"
     ]
    }
   ],
   "source": [
    "print (mod2.summary())"
   ]
  },
  {
   "cell_type": "code",
   "execution_count": 116,
   "metadata": {},
   "outputs": [
    {
     "name": "stdout",
     "output_type": "stream",
     "text": [
      "                            OLS Regression Results                            \n",
      "==============================================================================\n",
      "Dep. Variable:          np.log(Index)   R-squared:                       0.300\n",
      "Model:                            OLS   Adj. R-squared:                  0.291\n",
      "Method:                 Least Squares   F-statistic:                     36.38\n",
      "Date:                Sat, 05 May 2018   Prob (F-statistic):           4.08e-08\n",
      "Time:                        17:06:00   Log-Likelihood:                -152.39\n",
      "No. Observations:                  87   AIC:                             308.8\n",
      "Df Residuals:                      85   BIC:                             313.7\n",
      "Df Model:                           1                                         \n",
      "Covariance Type:            nonrobust                                         \n",
      "=========================================================================================\n",
      "                            coef    std err          t      P>|t|      [0.025      0.975]\n",
      "-----------------------------------------------------------------------------------------\n",
      "Intercept                 5.6428      0.228     24.728      0.000       5.189       6.096\n",
      "np.square(BookMarket)    -2.5955      0.430     -6.031      0.000      -3.451      -1.740\n",
      "==============================================================================\n",
      "Omnibus:                       57.806   Durbin-Watson:                   0.152\n",
      "Prob(Omnibus):                  0.000   Jarque-Bera (JB):                6.884\n",
      "Skew:                          -0.128   Prob(JB):                       0.0320\n",
      "Kurtosis:                       1.646   Cond. No.                         3.35\n",
      "==============================================================================\n",
      "\n",
      "Warnings:\n",
      "[1] Standard Errors assume that the covariance matrix of the errors is correctly specified.\n"
     ]
    }
   ],
   "source": [
    "print (mod3.summary())"
   ]
  },
  {
   "cell_type": "code",
   "execution_count": 117,
   "metadata": {},
   "outputs": [],
   "source": [
    "df[\"change_year\"] = np.where(df.Year >= 1980, \"a1980\", \"b1980\")"
   ]
  },
  {
   "cell_type": "code",
   "execution_count": 118,
   "metadata": {},
   "outputs": [],
   "source": [
    "df_1980 = df.copy()"
   ]
  },
  {
   "cell_type": "code",
   "execution_count": 119,
   "metadata": {},
   "outputs": [
    {
     "data": {
      "text/html": [
       "<div>\n",
       "<style scoped>\n",
       "    .dataframe tbody tr th:only-of-type {\n",
       "        vertical-align: middle;\n",
       "    }\n",
       "\n",
       "    .dataframe tbody tr th {\n",
       "        vertical-align: top;\n",
       "    }\n",
       "\n",
       "    .dataframe thead th {\n",
       "        text-align: right;\n",
       "    }\n",
       "</style>\n",
       "<table border=\"1\" class=\"dataframe\">\n",
       "  <thead>\n",
       "    <tr style=\"text-align: right;\">\n",
       "      <th></th>\n",
       "      <th>Year</th>\n",
       "      <th>Index</th>\n",
       "      <th>Dividends</th>\n",
       "      <th>Riskfree</th>\n",
       "      <th>LogEqPrem</th>\n",
       "      <th>BookMarket</th>\n",
       "      <th>NTIS</th>\n",
       "      <th>DivPrice</th>\n",
       "      <th>EarnPrice</th>\n",
       "      <th>Inflation</th>\n",
       "      <th>change_year</th>\n",
       "    </tr>\n",
       "  </thead>\n",
       "  <tbody>\n",
       "    <tr>\n",
       "      <th>0</th>\n",
       "      <td>1927</td>\n",
       "      <td>17.66</td>\n",
       "      <td>0.77</td>\n",
       "      <td>0.0317</td>\n",
       "      <td>0.280823</td>\n",
       "      <td>0.374689</td>\n",
       "      <td>0.073955</td>\n",
       "      <td>-3.132667</td>\n",
       "      <td>-2.766942</td>\n",
       "      <td>-0.021176</td>\n",
       "      <td>b1980</td>\n",
       "    </tr>\n",
       "    <tr>\n",
       "      <th>1</th>\n",
       "      <td>1928</td>\n",
       "      <td>24.35</td>\n",
       "      <td>0.85</td>\n",
       "      <td>0.0426</td>\n",
       "      <td>0.313824</td>\n",
       "      <td>0.259667</td>\n",
       "      <td>0.042639</td>\n",
       "      <td>-3.355051</td>\n",
       "      <td>-2.870448</td>\n",
       "      <td>-0.009793</td>\n",
       "      <td>b1980</td>\n",
       "    </tr>\n",
       "    <tr>\n",
       "      <th>2</th>\n",
       "      <td>1929</td>\n",
       "      <td>21.45</td>\n",
       "      <td>0.97</td>\n",
       "      <td>0.0303</td>\n",
       "      <td>-0.112428</td>\n",
       "      <td>0.338458</td>\n",
       "      <td>0.165576</td>\n",
       "      <td>-3.096184</td>\n",
       "      <td>-2.589490</td>\n",
       "      <td>0.001830</td>\n",
       "      <td>b1980</td>\n",
       "    </tr>\n",
       "    <tr>\n",
       "      <th>3</th>\n",
       "      <td>1930</td>\n",
       "      <td>15.34</td>\n",
       "      <td>0.98</td>\n",
       "      <td>0.0148</td>\n",
       "      <td>-0.288025</td>\n",
       "      <td>0.554745</td>\n",
       "      <td>0.131525</td>\n",
       "      <td>-2.750667</td>\n",
       "      <td>-2.760923</td>\n",
       "      <td>-0.060665</td>\n",
       "      <td>b1980</td>\n",
       "    </tr>\n",
       "    <tr>\n",
       "      <th>4</th>\n",
       "      <td>1931</td>\n",
       "      <td>8.12</td>\n",
       "      <td>0.82</td>\n",
       "      <td>0.0241</td>\n",
       "      <td>-0.563742</td>\n",
       "      <td>1.170732</td>\n",
       "      <td>-0.011032</td>\n",
       "      <td>-2.292781</td>\n",
       "      <td>-2.588626</td>\n",
       "      <td>-0.095711</td>\n",
       "      <td>b1980</td>\n",
       "    </tr>\n",
       "  </tbody>\n",
       "</table>\n",
       "</div>"
      ],
      "text/plain": [
       "   Year  Index  Dividends  Riskfree  LogEqPrem  BookMarket      NTIS  \\\n",
       "0  1927  17.66       0.77    0.0317   0.280823    0.374689  0.073955   \n",
       "1  1928  24.35       0.85    0.0426   0.313824    0.259667  0.042639   \n",
       "2  1929  21.45       0.97    0.0303  -0.112428    0.338458  0.165576   \n",
       "3  1930  15.34       0.98    0.0148  -0.288025    0.554745  0.131525   \n",
       "4  1931   8.12       0.82    0.0241  -0.563742    1.170732 -0.011032   \n",
       "\n",
       "   DivPrice  EarnPrice  Inflation change_year  \n",
       "0 -3.132667  -2.766942  -0.021176       b1980  \n",
       "1 -3.355051  -2.870448  -0.009793       b1980  \n",
       "2 -3.096184  -2.589490   0.001830       b1980  \n",
       "3 -2.750667  -2.760923  -0.060665       b1980  \n",
       "4 -2.292781  -2.588626  -0.095711       b1980  "
      ]
     },
     "execution_count": 119,
     "metadata": {},
     "output_type": "execute_result"
    }
   ],
   "source": [
    "df_1980.head()"
   ]
  },
  {
   "cell_type": "code",
   "execution_count": 120,
   "metadata": {
    "collapsed": true
   },
   "outputs": [],
   "source": [
    "df_1980[\"Log_Index_diff\"] = np.log(df_1980.Index).diff() #pandas series diff"
   ]
  },
  {
   "cell_type": "code",
   "execution_count": 121,
   "metadata": {},
   "outputs": [],
   "source": [
    "df_1980[\"BM_80\"] = df_1980.BookMarket * np.where(df_1980[\"change_year\"] == \"b1980\", 0, 1)"
   ]
  },
  {
   "cell_type": "code",
   "execution_count": 130,
   "metadata": {},
   "outputs": [],
   "source": [
    "y,X3= dmatrices(\"Log_Index_diff ~ BookMarket + BM_80\" , data = df_1980)"
   ]
  },
  {
   "cell_type": "code",
   "execution_count": 123,
   "metadata": {},
   "outputs": [],
   "source": [
    "X4 = dmatrix(\"change_year\", data = df_1980)"
   ]
  },
  {
   "cell_type": "code",
   "execution_count": 133,
   "metadata": {},
   "outputs": [],
   "source": [
    "y, X4 = dmatrices(\"Log_Index_diff ~ BookMarket+ BookMarket:change_year\", df_1980)"
   ]
  },
  {
   "cell_type": "code",
   "execution_count": 135,
   "metadata": {
    "collapsed": true
   },
   "outputs": [],
   "source": [
    "import numpy as np\n",
    "\n",
    "class MyTreat(object):\n",
    "    def __init__(self, reference=0):\n",
    "        self.reference = reference\n",
    "\n",
    "    def code_with_intercept(self, levels):\n",
    "        return ContrastMatrix(np.eye(len(levels)),\n",
    "                              [\"[My.%s]\" % (level,) for level in levels])\n",
    "\n",
    "    def code_without_intercept(self, levels):\n",
    "        eye = np.eye(len(levels) - 1)\n",
    "        contrasts = np.vstack((eye[:self.reference, :],\n",
    "                               np.zeros((1, len(levels) - 1)),\n",
    "                               eye[self.reference:, :]))\n",
    "        suffixes = [\"[MyT.%s]\" % (level,) for level in\n",
    "                    levels[:self.reference] + levels[self.reference + 1:]]\n",
    "        return ContrastMatrix(contrasts, suffixes)"
   ]
  },
  {
   "cell_type": "code",
   "execution_count": 154,
   "metadata": {},
   "outputs": [
    {
     "data": {
      "text/plain": [
       "DesignMatrix with shape (87, 2)\n",
       "  C(change_year, levels=l)[b1980]  C(change_year, levels=l)[a1980]\n",
       "                                1                                0\n",
       "                                1                                0\n",
       "                                1                                0\n",
       "                                1                                0\n",
       "                                1                                0\n",
       "                                1                                0\n",
       "                                1                                0\n",
       "                                1                                0\n",
       "                                1                                0\n",
       "                                1                                0\n",
       "                                1                                0\n",
       "                                1                                0\n",
       "                                1                                0\n",
       "                                1                                0\n",
       "                                1                                0\n",
       "                                1                                0\n",
       "                                1                                0\n",
       "                                1                                0\n",
       "                                1                                0\n",
       "                                1                                0\n",
       "                                1                                0\n",
       "                                1                                0\n",
       "                                1                                0\n",
       "                                1                                0\n",
       "                                1                                0\n",
       "                                1                                0\n",
       "                                1                                0\n",
       "                                1                                0\n",
       "                                1                                0\n",
       "                                1                                0\n",
       "  [57 rows omitted]\n",
       "  Terms:\n",
       "    'C(change_year, levels=l)' (columns 0:2)\n",
       "  (to view full data, use np.asarray(this_obj))"
      ]
     },
     "execution_count": 154,
     "metadata": {},
     "output_type": "execute_result"
    }
   ],
   "source": [
    "l=[\"b1980\", \"a1980\"]\n",
    "dmatrix(\"C(change_year, levels = l) -1\", df_1980)"
   ]
  },
  {
   "cell_type": "code",
   "execution_count": 155,
   "metadata": {},
   "outputs": [],
   "source": [
    "y, X5 = dmatrices(\"Log_Index_diff ~ BookMarket+ BookMarket:C(change_year, levels = l)\", df_1980)"
   ]
  },
  {
   "cell_type": "code",
   "execution_count": 157,
   "metadata": {},
   "outputs": [],
   "source": [
    "mod5 = sm.OLS(y, X5).fit()"
   ]
  },
  {
   "cell_type": "code",
   "execution_count": 158,
   "metadata": {},
   "outputs": [
    {
     "name": "stdout",
     "output_type": "stream",
     "text": [
      "                            OLS Regression Results                            \n",
      "==============================================================================\n",
      "Dep. Variable:         Log_Index_diff   R-squared:                       0.083\n",
      "Model:                            OLS   Adj. R-squared:                  0.061\n",
      "Method:                 Least Squares   F-statistic:                     3.778\n",
      "Date:                Sat, 05 May 2018   Prob (F-statistic):             0.0269\n",
      "Time:                        17:18:47   Log-Likelihood:                 21.408\n",
      "No. Observations:                  86   AIC:                            -36.82\n",
      "Df Residuals:                      83   BIC:                            -29.45\n",
      "Df Model:                           2                                         \n",
      "Covariance Type:            nonrobust                                         \n",
      "================================================================================================================\n",
      "                                                   coef    std err          t      P>|t|      [0.025      0.975]\n",
      "----------------------------------------------------------------------------------------------------------------\n",
      "Intercept                                        0.1661      0.054      3.094      0.003       0.059       0.273\n",
      "BookMarket                                      -0.2079      0.080     -2.603      0.011      -0.367      -0.049\n",
      "BookMarket:C(change_year, levels=l)[T.a1980]     0.0486      0.086      0.563      0.575      -0.123       0.220\n",
      "==============================================================================\n",
      "Omnibus:                       12.842   Durbin-Watson:                   1.845\n",
      "Prob(Omnibus):                  0.002   Jarque-Bera (JB):               13.822\n",
      "Skew:                          -0.846   Prob(JB):                     0.000997\n",
      "Kurtosis:                       3.999   Cond. No.                         5.63\n",
      "==============================================================================\n",
      "\n",
      "Warnings:\n",
      "[1] Standard Errors assume that the covariance matrix of the errors is correctly specified.\n"
     ]
    }
   ],
   "source": [
    "print (mod5.summary())"
   ]
  },
  {
   "cell_type": "code",
   "execution_count": 80,
   "metadata": {
    "collapsed": true
   },
   "outputs": [],
   "source": [
    "mod_3 = sm.OLS(y, X3).fit()"
   ]
  },
  {
   "cell_type": "code",
   "execution_count": 82,
   "metadata": {},
   "outputs": [
    {
     "name": "stdout",
     "output_type": "stream",
     "text": [
      "                            OLS Regression Results                            \n",
      "==============================================================================\n",
      "Dep. Variable:         Log_Index_diff   R-squared:                       0.083\n",
      "Model:                            OLS   Adj. R-squared:                  0.061\n",
      "Method:                 Least Squares   F-statistic:                     3.778\n",
      "Date:                Sat, 05 May 2018   Prob (F-statistic):             0.0269\n",
      "Time:                        16:23:11   Log-Likelihood:                 21.408\n",
      "No. Observations:                  86   AIC:                            -36.82\n",
      "Df Residuals:                      83   BIC:                            -29.45\n",
      "Df Model:                           2                                         \n",
      "Covariance Type:            nonrobust                                         \n",
      "==============================================================================\n",
      "                 coef    std err          t      P>|t|      [0.025      0.975]\n",
      "------------------------------------------------------------------------------\n",
      "Intercept      0.1661      0.054      3.094      0.003       0.059       0.273\n",
      "BookMarket    -0.2079      0.080     -2.603      0.011      -0.367      -0.049\n",
      "BM_80          0.0486      0.086      0.563      0.575      -0.123       0.220\n",
      "==============================================================================\n",
      "Omnibus:                       12.842   Durbin-Watson:                   1.845\n",
      "Prob(Omnibus):                  0.002   Jarque-Bera (JB):               13.822\n",
      "Skew:                          -0.846   Prob(JB):                     0.000997\n",
      "Kurtosis:                       3.999   Cond. No.                         5.63\n",
      "==============================================================================\n",
      "\n",
      "Warnings:\n",
      "[1] Standard Errors assume that the covariance matrix of the errors is correctly specified.\n"
     ]
    }
   ],
   "source": [
    "print (mod_3.summary())"
   ]
  },
  {
   "cell_type": "markdown",
   "metadata": {},
   "source": [
    "### coding categorical data with patsy\n"
   ]
  },
  {
   "cell_type": "code",
   "execution_count": 64,
   "metadata": {
    "collapsed": true
   },
   "outputs": [],
   "source": [
    "from patsy import dmatrix, demo_data, ContrastMatrix, Poly"
   ]
  },
  {
   "cell_type": "code",
   "execution_count": 72,
   "metadata": {},
   "outputs": [
    {
     "data": {
      "text/plain": [
       "{'a': ['a1', 'a2', 'a3', 'a1', 'a2', 'a3']}"
      ]
     },
     "execution_count": 72,
     "metadata": {},
     "output_type": "execute_result"
    }
   ],
   "source": [
    "demo_data(\"a\", nlevels= 3)"
   ]
  },
  {
   "cell_type": "code",
   "execution_count": 87,
   "metadata": {
    "collapsed": true
   },
   "outputs": [],
   "source": [
    "df_test = pd.DataFrame(demo_data(\"a\", nlevels= 3))"
   ]
  },
  {
   "cell_type": "code",
   "execution_count": 89,
   "metadata": {},
   "outputs": [
    {
     "data": {
      "text/plain": [
       "DesignMatrix with shape (6, 3)\n",
       "  Intercept  a[T.a2]  a[T.a3]\n",
       "          1        0        0\n",
       "          1        1        0\n",
       "          1        0        1\n",
       "          1        0        0\n",
       "          1        1        0\n",
       "          1        0        1\n",
       "  Terms:\n",
       "    'Intercept' (column 0)\n",
       "    'a' (columns 1:3)"
      ]
     },
     "execution_count": 89,
     "metadata": {},
     "output_type": "execute_result"
    }
   ],
   "source": [
    "dmatrix(\"a\", df_test)"
   ]
  }
 ],
 "metadata": {
  "kernelspec": {
   "display_name": "Python 3",
   "language": "python",
   "name": "python3"
  },
  "language_info": {
   "codemirror_mode": {
    "name": "ipython",
    "version": 3
   },
   "file_extension": ".py",
   "mimetype": "text/x-python",
   "name": "python",
   "nbconvert_exporter": "python",
   "pygments_lexer": "ipython3",
   "version": "3.6.1"
  }
 },
 "nbformat": 4,
 "nbformat_minor": 2
}
