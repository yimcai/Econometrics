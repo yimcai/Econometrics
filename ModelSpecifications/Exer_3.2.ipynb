{
 "cells": [
  {
   "cell_type": "markdown",
   "metadata": {},
   "source": [
    "(a) Consider again the case from the lecture, with DGP: y=X1β1+X2β2+ε →b1 andb2\n",
    "Model: y=X1β1+ε ̃ →bR\n",
    "Prove Var(bR) = Var(b1) − PVar(b2)P′. Use bR = b1 + Pb2 and Cov(b2,bR) = 0 (you do not need to\n",
    "prove this)."
   ]
  },
  {
   "cell_type": "markdown",
   "metadata": {},
   "source": [
    "> $ b_{R} = b_{1} + Pb_{2}$   (1) \n",
    "\n",
    "> $ VAR(b_{R}) = E[[b_{R} - E(b_{R})]^2]$ \n",
    "\n",
    "> let $\\delta = b_{R} - E(b_{R}), VAR(b_{R}) = E[\\delta^2]$\n",
    "\n",
    ">with (1), $\\delta = b_{1} + Pb_{2} - E(b_{1}) - E(Pb_{2}) = b_{1} - E(b_{1}) + Pb_{2} - E(Pb_{2})$ \n",
    "\n",
    "> therefore, $\\delta^2 = (b_{1} - E(b_{1}))^2 + (Pb_{2} - E(Pb_{2}))^2 + 2(b_{1} - E(b_{1}))(Pb_{2} - E(Pb_{2}))$ \n",
    "\n",
    ">with $b_{1} - E(b_{1}) = [b_{R} - E(b_{R})] - [Pb_{2} - E(Pb_{2})]$\n",
    "\n",
    "> $\\delta^2 = (b_{1} - E(b_{1}))^2 + (Pb_{2} - E(Pb_{2}))^2 + 2[(b_{R} - E(b_{R})) - (Pb_{2} - E(Pb_{2}))](Pb_{2} - E(Pb_{2}))$ \n",
    "\n",
    "> = $(b_{1} - E(b_{1}))^2 + (Pb_{2} - E(Pb_{2}))^2 + 2[(b_{R} - E(b_{R}))(Pb_{2} - E(Pb_{2})) - (Pb_{2} - E(Pb_{2}))^2]$ "
   ]
  },
  {
   "cell_type": "markdown",
   "metadata": {},
   "source": [
    ">$ \\therefore E(\\delta^2) = Var(b_{1}) + VAR(Pb_{2}) + 2COV(b_{R}, Pb_{2}) -2VAR(Pb_{2})$ =\n",
    "\n",
    ">also $ \\because COV(b_{R}, b_{2}) = 0 $ (given by the question) $\\therefore  E(\\delta^2) = Var(b_{1}) - VAR(Pb_{2}) = Var(b_{1}) - PVAR(b_{2})P^{'} $"
   ]
  },
  {
   "cell_type": "markdown",
   "metadata": {},
   "source": [
    "> $ b_{R} = b_{1} + Pb_{2}$   \n",
    "\n",
    "> $ b_{1}  =b_{R}  - Pb_{2}$  \n",
    "\n",
    "> $ VAR(b_{1}) = VAR(b_{R}) + VAR(Pb_{2}) -2COV(b_{R}, Pb_{2}) $\n",
    "\n",
    "> $ VAR(b_{R}) = VAR(b_{1}) - PVAR(b_{2})P^{'}$"
   ]
  },
  {
   "cell_type": "markdown",
   "metadata": {
    "collapsed": true
   },
   "source": [
    "\n",
    "(b) One way to get more insight into the bias-efficiency trade-off (also referred to as the bias-variance trade-off) is to combine bias and efficiency in the Mean Squared Error (MSE). The mean squared error is defined as\n",
    "MSE(b) = E((b − β)(b − β)′),\n",
    "with b a certain estimator of the unknown parameter β. Prove E((b−β)(b−β)′) = Var(b)+E(b−β)E(b−β)′. Hints: First write the MSE out in four terms. Then, as an intermediate step, show Var(b) = E(bb)−E(b)E(b)′. Finally, add and subtract E(b)E(b)′ from the MSE expression and rewrite to get the desired result."
   ]
  },
  {
   "cell_type": "markdown",
   "metadata": {},
   "source": [
    ">MSE(b) = $E[(b - \\beta)(b - \\beta)^{'}]$ = $E[(b - \\beta)(b^{'}-\\beta^{'})]$\n",
    "                                          = $E[bb^{'} - b\\beta^{'} -\\beta b^{'} + \\beta \\beta^{'}]$\n",
    "                                          \n",
    "> = $E(bb^{'}) - E(b\\beta^{'}) - E(\\beta b^{'}) + E(\\beta\\beta^{'})$\n",
    "                                          \n",
    "> = $ E(bb^{'}) -\\beta^{'}E(b) - \\beta E( b^{'}) + \\beta\\beta^{'}-----(1)$ \n",
    "\n",
    "> $\\because \\hspace{0.2cm} VAR(b) =  E[(b - E(b)) ((b - E(b))^{'}] = E(bb^{'}) - E(b)E(b)^{'}$\n",
    "\n",
    "> $\\therefore \\hspace{0.2cm} E(bb^{'}) = VAR(b) + E(b)E(b)^{'}-----(2)$\n",
    "\n",
    "> $Replace \\hspace{0.2cm} E(bb^{'})\\hspace{0.2cm} in \\hspace{0.2cm}(1) \\hspace{0.2cm}with (2)  \\hspace{0.2cm}\\Rightarrow$\n",
    "\n",
    "> $MSE(b) = VAR(b) + E(b)E(b)^{'} - \\beta^{'} E(b) - \\beta E(b)^{'} + \\beta \\beta^{'}$ \n",
    "\n",
    "> $VAR(b) + [E(b) - \\beta][E(b) - \\beta]^{'} = VAR(b) + E(b-\\beta)E(b-\\beta)^{'}$\n",
    "\n"
   ]
  },
  {
   "cell_type": "markdown",
   "metadata": {},
   "source": [
    "(c) Again in the context of the case from the lecture (see (a)), show that the mean squared error of b1 minus the mean squared error of bR is equal to\n",
    "MSE(b1) − MSE(bR) = P(Var(b2) − β2β2′ )P′."
   ]
  },
  {
   "cell_type": "code",
   "execution_count": null,
   "metadata": {
    "collapsed": true
   },
   "outputs": [],
   "source": []
  }
 ],
 "metadata": {
  "kernelspec": {
   "display_name": "Python 3",
   "language": "python",
   "name": "python3"
  },
  "language_info": {
   "codemirror_mode": {
    "name": "ipython",
    "version": 3
   },
   "file_extension": ".py",
   "mimetype": "text/x-python",
   "name": "python",
   "nbconvert_exporter": "python",
   "pygments_lexer": "ipython3",
   "version": "3.6.1"
  }
 },
 "nbformat": 4,
 "nbformat_minor": 2
}
