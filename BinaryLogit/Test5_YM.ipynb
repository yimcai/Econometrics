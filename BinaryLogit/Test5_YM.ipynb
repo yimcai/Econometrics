{
 "cells": [
  {
   "cell_type": "markdown",
   "metadata": {},
   "source": [
    "@authore: Yiming"
   ]
  },
  {
   "cell_type": "markdown",
   "metadata": {},
   "source": [
    "**Question (a)**"
   ]
  },
  {
   "cell_type": "markdown",
   "metadata": {},
   "source": [
    "> Let: $$y_{i} = P[resp_{i} = 1] \\Rightarrow 1-y_{i} = 1 - P[resp_{i} = 1] = P[resp_{i}=0 ]$$\n",
    "\n",
    "$$\\Rightarrow \\frac{P[resp_{i} = 1]}{\\partial age_{i}} + \\frac{\\partial P[resp_{i} = 0]}{\\partial age_{i}}=  \\frac{\\partial{y_{i}}}{\\partial age_{i}} + \\frac{\\partial (1- y_{i})}{\\partial age_{i}} =0$$"
   ]
  },
  {
   "cell_type": "markdown",
   "metadata": {},
   "source": [
    "**Question(b)**"
   ]
  },
  {
   "cell_type": "markdown",
   "metadata": {},
   "source": [
    ">$$\n",
    "\\because  resp^{new}_{i}  = \n",
    "                    \\begin{cases}\n",
    "                    1, & \\text{if } resp_{i} = 0\\\\\n",
    "                    0, & \\text{if } resp_{i} = 1\n",
    "                     \\end{cases} $$\n",
    "                \n",
    ">$$\\therefore  P[resp^{new}_{i} =0] = \\frac{\\exp{(\\beta_{0} + \\beta_{1}male_{i} + \\beta_{2}active_{i} + \\beta_{3}age_{i} + \\beta_{4}(age_{i}/10)^{2})}}{1 + \\exp{(\\beta_{0} + \\beta_{1}male_{i} + \\beta_{2}active_{i} + \\beta_{3}age_{i} + \\beta_{4}(age_{i}/10)^{2})}} $$\n",
    "                    \n",
    ">The new odds ratio can be written as :\n",
    "\n",
    ">$$\\frac{resp^{new}_{i} = 1}{resp^{new}_{i} =0} = \\frac{1}{\\exp{(\\beta_{0} + \\beta_{1}male_{i} + \\beta_{2}active_{i} + \\beta_{3}age_{i} + \\beta_{4}(age_{i}/10)^{2})}} $$\n",
    "\n",
    "$$= \\exp{(-\\beta_{0} + -\\beta_{1}male_{i} + -\\beta_{2}active_{i} + -\\beta_{3}age_{i} + -\\beta_{4}(age_{i}/10)^{2})}$$\n",
    "\n",
    ">Therefore, the parameters would have opposite sign as opposed to original case."
   ]
  },
  {
   "cell_type": "markdown",
   "metadata": {},
   "source": [
    "**Question(c)**"
   ]
  },
  {
   "cell_type": "markdown",
   "metadata": {},
   "source": [
    "> One possible treatment is to add an interaction term between age and male, e.g, $age*male$ such that its derivative over age still accounts for male."
   ]
  }
 ],
 "metadata": {
  "kernelspec": {
   "display_name": "Python 3",
   "language": "python",
   "name": "python3"
  },
  "language_info": {
   "codemirror_mode": {
    "name": "ipython",
    "version": 3
   },
   "file_extension": ".py",
   "mimetype": "text/x-python",
   "name": "python",
   "nbconvert_exporter": "python",
   "pygments_lexer": "ipython3",
   "version": "3.6.1"
  }
 },
 "nbformat": 4,
 "nbformat_minor": 2
}
