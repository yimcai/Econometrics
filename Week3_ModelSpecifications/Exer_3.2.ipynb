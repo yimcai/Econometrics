{
 "cells": [
  {
   "cell_type": "markdown",
   "metadata": {},
   "source": [
    "> $ b_{R} = b_{1} + Pb_{2}$   (1) \n",
    "\n",
    "> $ VAR(b_{R}) = E[[b_{R} - E(b_{R})]^2]$ \n",
    "\n",
    "> let $\\delta = b_{R} - E(b_{R}), VAR(b_{R}) = E[\\delta^2]$\n",
    "\n",
    ">with (1), $\\delta = b_{1} + Pb_{2} - E(b_{1}) - E(Pb_{2}) = b_{1} - E(b_{1}) + Pb_{2} - E(Pb_{2})$ \n",
    "\n",
    "> therefore, $\\delta^2 = (b_{1} - E(b_{1}))^2 + (Pb_{2} - E(Pb_{2}))^2 + 2(b_{1} - E(b_{1}))(Pb_{2} - E(Pb_{2}))$ \n",
    "\n",
    ">with $b_{1} - E(b_{1}) = [b_{R} - E(b_{R})] - [Pb_{2} - E(Pb_{2})]$\n",
    "\n",
    "> $\\delta^2 = (b_{1} - E(b_{1}))^2 + (Pb_{2} - E(Pb_{2}))^2 + 2[(b_{R} - E(b_{R})) - (Pb_{2} - E(Pb_{2}))](Pb_{2} - E(Pb_{2}))$ \n",
    "\n",
    "> = $(b_{1} - E(b_{1}))^2 + (Pb_{2} - E(Pb_{2}))^2 + 2[(b_{R} - E(b_{R}))(Pb_{2} - E(Pb_{2})) - (Pb_{2} - E(Pb_{2}))^2]$ "
   ]
  },
  {
   "cell_type": "markdown",
   "metadata": {},
   "source": [
    ">$ \\therefore E(\\delta^2) = Var(b_{1}) + VAR(Pb_{2}) + 2COV(b_{R}, Pb_{2}) -2VAR(Pb_{2})$ =\n",
    "\n",
    ">also $ \\because COV(b_{R}, b_{2}) = 0 $ (given by the question) $\\therefore  E(\\delta^2) = Var(b_{1}) - VAR(Pb_{2}) = Var(b_{1}) - PVAR(b_{2})P^{'} $"
   ]
  },
  {
   "cell_type": "code",
   "execution_count": null,
   "metadata": {
    "collapsed": true
   },
   "outputs": [],
   "source": []
  }
 ],
 "metadata": {
  "kernelspec": {
   "display_name": "Python 3",
   "language": "python",
   "name": "python3"
  },
  "language_info": {
   "codemirror_mode": {
    "name": "ipython",
    "version": 3
   },
   "file_extension": ".py",
   "mimetype": "text/x-python",
   "name": "python",
   "nbconvert_exporter": "python",
   "pygments_lexer": "ipython3",
   "version": "3.6.1"
  }
 },
 "nbformat": 4,
 "nbformat_minor": 2
}
