{
 "cells": [
  {
   "cell_type": "code",
   "execution_count": 43,
   "metadata": {},
   "outputs": [],
   "source": [
    "import pandas as pd\n",
    "import numpy as np\n",
    "from patsy import dmatrices\n",
    "import statsmodels.api as sm\n",
    "import matplotlib.pyplot as plt\n",
    "%matplotlib inline"
   ]
  },
  {
   "cell_type": "code",
   "execution_count": 13,
   "metadata": {
    "collapsed": true
   },
   "outputs": [],
   "source": [
    "df = pd.read_csv(\"TrainExer 3-1-corrected.txt\", sep = \"\\t\")"
   ]
  },
  {
   "cell_type": "code",
   "execution_count": 17,
   "metadata": {},
   "outputs": [
    {
     "data": {
      "text/html": [
       "<div>\n",
       "<style scoped>\n",
       "    .dataframe tbody tr th:only-of-type {\n",
       "        vertical-align: middle;\n",
       "    }\n",
       "\n",
       "    .dataframe tbody tr th {\n",
       "        vertical-align: top;\n",
       "    }\n",
       "\n",
       "    .dataframe thead th {\n",
       "        text-align: right;\n",
       "    }\n",
       "</style>\n",
       "<table border=\"1\" class=\"dataframe\">\n",
       "  <thead>\n",
       "    <tr style=\"text-align: right;\">\n",
       "      <th></th>\n",
       "      <th>Year</th>\n",
       "      <th>Index</th>\n",
       "      <th>Dividends</th>\n",
       "      <th>Riskfree</th>\n",
       "      <th>LogEqPrem</th>\n",
       "      <th>BookMarket</th>\n",
       "      <th>NTIS</th>\n",
       "      <th>DivPrice</th>\n",
       "      <th>EarnPrice</th>\n",
       "      <th>Inflation</th>\n",
       "    </tr>\n",
       "  </thead>\n",
       "  <tbody>\n",
       "    <tr>\n",
       "      <th>0</th>\n",
       "      <td>1927</td>\n",
       "      <td>17.66</td>\n",
       "      <td>0.77</td>\n",
       "      <td>0.0317</td>\n",
       "      <td>0.280823</td>\n",
       "      <td>0.374689</td>\n",
       "      <td>0.073955</td>\n",
       "      <td>-3.133</td>\n",
       "      <td>-2.767</td>\n",
       "      <td>-0.021176</td>\n",
       "    </tr>\n",
       "    <tr>\n",
       "      <th>1</th>\n",
       "      <td>1928</td>\n",
       "      <td>24.35</td>\n",
       "      <td>0.85</td>\n",
       "      <td>0.0426</td>\n",
       "      <td>0.313824</td>\n",
       "      <td>0.259667</td>\n",
       "      <td>0.042639</td>\n",
       "      <td>-3.355</td>\n",
       "      <td>-2.870</td>\n",
       "      <td>-0.009793</td>\n",
       "    </tr>\n",
       "    <tr>\n",
       "      <th>2</th>\n",
       "      <td>1929</td>\n",
       "      <td>21.45</td>\n",
       "      <td>0.97</td>\n",
       "      <td>0.0303</td>\n",
       "      <td>-0.112428</td>\n",
       "      <td>0.338458</td>\n",
       "      <td>0.165576</td>\n",
       "      <td>-3.096</td>\n",
       "      <td>-2.589</td>\n",
       "      <td>0.001830</td>\n",
       "    </tr>\n",
       "    <tr>\n",
       "      <th>3</th>\n",
       "      <td>1930</td>\n",
       "      <td>15.34</td>\n",
       "      <td>0.98</td>\n",
       "      <td>0.0148</td>\n",
       "      <td>-0.288025</td>\n",
       "      <td>0.554745</td>\n",
       "      <td>0.131525</td>\n",
       "      <td>-2.751</td>\n",
       "      <td>-2.761</td>\n",
       "      <td>-0.060665</td>\n",
       "    </tr>\n",
       "    <tr>\n",
       "      <th>4</th>\n",
       "      <td>1931</td>\n",
       "      <td>8.12</td>\n",
       "      <td>0.82</td>\n",
       "      <td>0.0241</td>\n",
       "      <td>-0.563742</td>\n",
       "      <td>1.170732</td>\n",
       "      <td>-0.011032</td>\n",
       "      <td>-2.293</td>\n",
       "      <td>-2.589</td>\n",
       "      <td>-0.095711</td>\n",
       "    </tr>\n",
       "  </tbody>\n",
       "</table>\n",
       "</div>"
      ],
      "text/plain": [
       "   Year  Index   Dividends  Riskfree  LogEqPrem  BookMarket      NTIS  \\\n",
       "0  1927  17.66        0.77    0.0317   0.280823    0.374689  0.073955   \n",
       "1  1928  24.35        0.85    0.0426   0.313824    0.259667  0.042639   \n",
       "2  1929  21.45        0.97    0.0303  -0.112428    0.338458  0.165576   \n",
       "3  1930  15.34        0.98    0.0148  -0.288025    0.554745  0.131525   \n",
       "4  1931   8.12        0.82    0.0241  -0.563742    1.170732 -0.011032   \n",
       "\n",
       "   DivPrice  EarnPrice  Inflation  \n",
       "0    -3.133     -2.767  -0.021176  \n",
       "1    -3.355     -2.870  -0.009793  \n",
       "2    -3.096     -2.589   0.001830  \n",
       "3    -2.751     -2.761  -0.060665  \n",
       "4    -2.293     -2.589  -0.095711  "
      ]
     },
     "execution_count": 17,
     "metadata": {},
     "output_type": "execute_result"
    }
   ],
   "source": [
    "df.head()"
   ]
  },
  {
   "cell_type": "code",
   "execution_count": 21,
   "metadata": {},
   "outputs": [],
   "source": [
    "df[\"log_index_change\"] = np.log(df.Index).diff()"
   ]
  },
  {
   "cell_type": "code",
   "execution_count": 23,
   "metadata": {},
   "outputs": [
    {
     "data": {
      "text/html": [
       "<div>\n",
       "<style scoped>\n",
       "    .dataframe tbody tr th:only-of-type {\n",
       "        vertical-align: middle;\n",
       "    }\n",
       "\n",
       "    .dataframe tbody tr th {\n",
       "        vertical-align: top;\n",
       "    }\n",
       "\n",
       "    .dataframe thead th {\n",
       "        text-align: right;\n",
       "    }\n",
       "</style>\n",
       "<table border=\"1\" class=\"dataframe\">\n",
       "  <thead>\n",
       "    <tr style=\"text-align: right;\">\n",
       "      <th></th>\n",
       "      <th>Year</th>\n",
       "      <th>Index</th>\n",
       "      <th>Dividends</th>\n",
       "      <th>Riskfree</th>\n",
       "      <th>LogEqPrem</th>\n",
       "      <th>BookMarket</th>\n",
       "      <th>NTIS</th>\n",
       "      <th>DivPrice</th>\n",
       "      <th>EarnPrice</th>\n",
       "      <th>Inflation</th>\n",
       "      <th>log_index_change</th>\n",
       "    </tr>\n",
       "  </thead>\n",
       "  <tbody>\n",
       "    <tr>\n",
       "      <th>0</th>\n",
       "      <td>1927</td>\n",
       "      <td>17.66</td>\n",
       "      <td>0.77</td>\n",
       "      <td>0.0317</td>\n",
       "      <td>0.280823</td>\n",
       "      <td>0.374689</td>\n",
       "      <td>0.073955</td>\n",
       "      <td>-3.133</td>\n",
       "      <td>-2.767</td>\n",
       "      <td>-0.021176</td>\n",
       "      <td>NaN</td>\n",
       "    </tr>\n",
       "    <tr>\n",
       "      <th>1</th>\n",
       "      <td>1928</td>\n",
       "      <td>24.35</td>\n",
       "      <td>0.85</td>\n",
       "      <td>0.0426</td>\n",
       "      <td>0.313824</td>\n",
       "      <td>0.259667</td>\n",
       "      <td>0.042639</td>\n",
       "      <td>-3.355</td>\n",
       "      <td>-2.870</td>\n",
       "      <td>-0.009793</td>\n",
       "      <td>0.321230</td>\n",
       "    </tr>\n",
       "    <tr>\n",
       "      <th>2</th>\n",
       "      <td>1929</td>\n",
       "      <td>21.45</td>\n",
       "      <td>0.97</td>\n",
       "      <td>0.0303</td>\n",
       "      <td>-0.112428</td>\n",
       "      <td>0.338458</td>\n",
       "      <td>0.165576</td>\n",
       "      <td>-3.096</td>\n",
       "      <td>-2.589</td>\n",
       "      <td>0.001830</td>\n",
       "      <td>-0.126807</td>\n",
       "    </tr>\n",
       "    <tr>\n",
       "      <th>3</th>\n",
       "      <td>1930</td>\n",
       "      <td>15.34</td>\n",
       "      <td>0.98</td>\n",
       "      <td>0.0148</td>\n",
       "      <td>-0.288025</td>\n",
       "      <td>0.554745</td>\n",
       "      <td>0.131525</td>\n",
       "      <td>-2.751</td>\n",
       "      <td>-2.761</td>\n",
       "      <td>-0.060665</td>\n",
       "      <td>-0.335261</td>\n",
       "    </tr>\n",
       "    <tr>\n",
       "      <th>4</th>\n",
       "      <td>1931</td>\n",
       "      <td>8.12</td>\n",
       "      <td>0.82</td>\n",
       "      <td>0.0241</td>\n",
       "      <td>-0.563742</td>\n",
       "      <td>1.170732</td>\n",
       "      <td>-0.011032</td>\n",
       "      <td>-2.293</td>\n",
       "      <td>-2.589</td>\n",
       "      <td>-0.095711</td>\n",
       "      <td>-0.636134</td>\n",
       "    </tr>\n",
       "  </tbody>\n",
       "</table>\n",
       "</div>"
      ],
      "text/plain": [
       "   Year  Index   Dividends  Riskfree  LogEqPrem  BookMarket      NTIS  \\\n",
       "0  1927  17.66        0.77    0.0317   0.280823    0.374689  0.073955   \n",
       "1  1928  24.35        0.85    0.0426   0.313824    0.259667  0.042639   \n",
       "2  1929  21.45        0.97    0.0303  -0.112428    0.338458  0.165576   \n",
       "3  1930  15.34        0.98    0.0148  -0.288025    0.554745  0.131525   \n",
       "4  1931   8.12        0.82    0.0241  -0.563742    1.170732 -0.011032   \n",
       "\n",
       "   DivPrice  EarnPrice  Inflation  log_index_change  \n",
       "0    -3.133     -2.767  -0.021176               NaN  \n",
       "1    -3.355     -2.870  -0.009793          0.321230  \n",
       "2    -3.096     -2.589   0.001830         -0.126807  \n",
       "3    -2.751     -2.761  -0.060665         -0.335261  \n",
       "4    -2.293     -2.589  -0.095711         -0.636134  "
      ]
     },
     "execution_count": 23,
     "metadata": {},
     "output_type": "execute_result"
    }
   ],
   "source": [
    "df.head()"
   ]
  },
  {
   "cell_type": "code",
   "execution_count": 37,
   "metadata": {},
   "outputs": [
    {
     "data": {
      "text/plain": [
       "(87, 11)"
      ]
     },
     "execution_count": 37,
     "metadata": {},
     "output_type": "execute_result"
    }
   ],
   "source": [
    "df.shape"
   ]
  },
  {
   "cell_type": "code",
   "execution_count": 38,
   "metadata": {
    "collapsed": true
   },
   "outputs": [],
   "source": [
    "y,X = dmatrices(\"log_index_change~ BookMarket\", df)"
   ]
  },
  {
   "cell_type": "code",
   "execution_count": 39,
   "metadata": {
    "collapsed": true
   },
   "outputs": [],
   "source": [
    "mod_ols = sm.OLS(y, X).fit()"
   ]
  },
  {
   "cell_type": "code",
   "execution_count": 40,
   "metadata": {},
   "outputs": [
    {
     "name": "stdout",
     "output_type": "stream",
     "text": [
      "                            OLS Regression Results                            \n",
      "==============================================================================\n",
      "Dep. Variable:       log_index_change   R-squared:                       0.080\n",
      "Model:                            OLS   Adj. R-squared:                  0.069\n",
      "Method:                 Least Squares   F-statistic:                     7.299\n",
      "Date:                Sun, 15 Apr 2018   Prob (F-statistic):            0.00835\n",
      "Time:                        22:33:00   Log-Likelihood:                 21.244\n",
      "No. Observations:                  86   AIC:                            -38.49\n",
      "Df Residuals:                      84   BIC:                            -33.58\n",
      "Df Model:                           1                                         \n",
      "Covariance Type:            nonrobust                                         \n",
      "==============================================================================\n",
      "                 coef    std err          t      P>|t|      [0.025      0.975]\n",
      "------------------------------------------------------------------------------\n",
      "Intercept      0.1770      0.050      3.543      0.001       0.078       0.276\n",
      "BookMarket    -0.2133      0.079     -2.702      0.008      -0.370      -0.056\n",
      "==============================================================================\n",
      "Omnibus:                       13.128   Durbin-Watson:                   1.825\n",
      "Prob(Omnibus):                  0.001   Jarque-Bera (JB):               14.145\n",
      "Skew:                          -0.868   Prob(JB):                     0.000848\n",
      "Kurtosis:                       3.965   Cond. No.                         5.17\n",
      "==============================================================================\n",
      "\n",
      "Warnings:\n",
      "[1] Standard Errors assume that the covariance matrix of the errors is correctly specified.\n"
     ]
    }
   ],
   "source": [
    "print (mod_ols.summary())"
   ]
  },
  {
   "cell_type": "code",
   "execution_count": 61,
   "metadata": {},
   "outputs": [
    {
     "data": {
      "text/plain": [
       "[<matplotlib.lines.Line2D at 0x11e1c5ef0>]"
      ]
     },
     "execution_count": 61,
     "metadata": {},
     "output_type": "execute_result"
    },
    {
     "data": {
      "image/png": "[encoded data removed]",
      "text/plain": [
       "<matplotlib.figure.Figure at 0x11d84a470>"
      ]
     },
     "metadata": {},
     "output_type": "display_data"
    }
   ],
   "source": [
    "plt.plot([i+ 1928 for i in range(y.shape[0])], mod_ols.resid )"
   ]
  },
  {
   "cell_type": "markdown",
   "metadata": {},
   "source": [
    "(b) Now regress the S&P500 index (without any kind of transformation) on a constant and the book-to-market\n",
    "ratio. Consider whether the effect of book-to-market on the index is significant in this specification."
   ]
  },
  {
   "cell_type": "code",
   "execution_count": 56,
   "metadata": {
    "collapsed": true
   },
   "outputs": [],
   "source": [
    "y, X = dmatrices(\"Index~ BookMarket\", df)"
   ]
  },
  {
   "cell_type": "code",
   "execution_count": 57,
   "metadata": {
    "collapsed": true
   },
   "outputs": [],
   "source": [
    "mod_ols = sm.OLS(y, X).fit()"
   ]
  },
  {
   "cell_type": "code",
   "execution_count": 58,
   "metadata": {},
   "outputs": [
    {
     "name": "stdout",
     "output_type": "stream",
     "text": [
      "                            OLS Regression Results                            \n",
      "==============================================================================\n",
      "Dep. Variable:                  Index   R-squared:                       0.434\n",
      "Model:                            OLS   Adj. R-squared:                  0.427\n",
      "Method:                 Least Squares   F-statistic:                     65.20\n",
      "Date:                Sun, 15 Apr 2018   Prob (F-statistic):           4.00e-12\n",
      "Time:                        22:40:42   Log-Likelihood:                -636.08\n",
      "No. Observations:                  87   AIC:                             1276.\n",
      "Df Residuals:                      85   BIC:                             1281.\n",
      "Df Model:                           1                                         \n",
      "Covariance Type:            nonrobust                                         \n",
      "==============================================================================\n",
      "                 coef    std err          t      P>|t|      [0.025      0.975]\n",
      "------------------------------------------------------------------------------\n",
      "Intercept   1035.3473     95.019     10.896      0.000     846.424    1224.271\n",
      "BookMarket -1217.6808    150.800     -8.075      0.000   -1517.511    -917.851\n",
      "==============================================================================\n",
      "Omnibus:                       10.751   Durbin-Watson:                   0.271\n",
      "Prob(Omnibus):                  0.005   Jarque-Bera (JB):               11.134\n",
      "Skew:                           0.860   Prob(JB):                      0.00382\n",
      "Kurtosis:                       3.339   Cond. No.                         5.17\n",
      "==============================================================================\n",
      "\n",
      "Warnings:\n",
      "[1] Standard Errors assume that the covariance matrix of the errors is correctly specified.\n"
     ]
    }
   ],
   "source": [
    "print (mod_ols.summary())"
   ]
  },
  {
   "cell_type": "code",
   "execution_count": 59,
   "metadata": {},
   "outputs": [
    {
     "data": {
      "text/plain": [
       "<matplotlib.collections.PathCollection at 0x11dd7cba8>"
      ]
     },
     "execution_count": 59,
     "metadata": {},
     "output_type": "execute_result"
    },
    {
     "data": {
      "image/png": "[encoded data removed]",
      "text/plain": [
       "<matplotlib.figure.Figure at 0x11de41470>"
      ]
     },
     "metadata": {},
     "output_type": "display_data"
    }
   ],
   "source": [
    "plt.scatter([i+ 1928 for i in range(y.shape[0])], mod_ols.resid , s = 3)"
   ]
  },
  {
   "cell_type": "code",
   "execution_count": null,
   "metadata": {
    "collapsed": true
   },
   "outputs": [],
   "source": []
  }
 ],
 "metadata": {
  "kernelspec": {
   "display_name": "Python 3",
   "language": "python",
   "name": "python3"
  },
  "language_info": {
   "codemirror_mode": {
    "name": "ipython",
    "version": 3
   },
   "file_extension": ".py",
   "mimetype": "text/x-python",
   "name": "python",
   "nbconvert_exporter": "python",
   "pygments_lexer": "ipython3",
   "version": "3.6.1"
  }
 },
 "nbformat": 4,
 "nbformat_minor": 2
}
