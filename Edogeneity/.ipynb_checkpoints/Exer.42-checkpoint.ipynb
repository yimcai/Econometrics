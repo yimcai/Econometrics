{
 "cells": [
  {
   "cell_type": "code",
   "execution_count": 6,
   "metadata": {},
   "outputs": [],
   "source": [
    "import os\n",
    "import pandas as pd\n",
    "import statsmodels.api as sm\n",
    "from patsy import  dmatrices, dmatrix"
   ]
  },
  {
   "cell_type": "code",
   "execution_count": 3,
   "metadata": {},
   "outputs": [],
   "source": [
    "df = pd.read_excel(\"TrainExer42.xls\")"
   ]
  },
  {
   "cell_type": "markdown",
   "metadata": {},
   "source": [
    "(a) First consider the case where the event only directly affects price (α = 0). Estimate and report the price coefficients under all 4 scenarios for β and calculate the R2 for all these regressions. Do the estimated price coefficients signal any endogeneity problem for these values of α and β? Can you also explain the pattern you find for the R2?"
   ]
  },
  {
   "cell_type": "code",
   "execution_count": 21,
   "metadata": {},
   "outputs": [],
   "source": [
    "y0, X0 = dmatrices(\"SALES0_0 ~ PRICE0\", df)\n",
    "y1, X1 = dmatrices(\"SALES0_1 ~ PRICE1\", df)\n",
    "y5, X5 = dmatrices(\"SALES0_5 ~ PRICE5\", df)\n",
    "y10, X10 = dmatrices(\"SALES0_10 ~ PRICE10\", df)"
   ]
  },
  {
   "cell_type": "code",
   "execution_count": 22,
   "metadata": {},
   "outputs": [
    {
     "name": "stdout",
     "output_type": "stream",
     "text": [
      "                            OLS Regression Results                            \n",
      "==============================================================================\n",
      "Dep. Variable:               SALES0_0   R-squared:                       0.794\n",
      "Model:                            OLS   Adj. R-squared:                  0.794\n",
      "Method:                 Least Squares   F-statistic:                     958.5\n",
      "Date:                Sun, 13 May 2018   Prob (F-statistic):           3.61e-87\n",
      "Time:                        12:19:42   Log-Likelihood:                -192.46\n",
      "No. Observations:                 250   AIC:                             388.9\n",
      "Df Residuals:                     248   BIC:                             396.0\n",
      "Df Model:                           1                                         \n",
      "Covariance Type:            nonrobust                                         \n",
      "==============================================================================\n",
      "                 coef    std err          t      P>|t|      [0.025      0.975]\n",
      "------------------------------------------------------------------------------\n",
      "Intercept     99.8620      0.161    620.681      0.000      99.545     100.179\n",
      "PRICE0        -0.9758      0.032    -30.959      0.000      -1.038      -0.914\n",
      "==============================================================================\n",
      "Omnibus:                        3.184   Durbin-Watson:                   2.005\n",
      "Prob(Omnibus):                  0.204   Jarque-Bera (JB):                2.824\n",
      "Skew:                          -0.232   Prob(JB):                        0.244\n",
      "Kurtosis:                       3.237   Cond. No.                         25.7\n",
      "==============================================================================\n",
      "\n",
      "Warnings:\n",
      "[1] Standard Errors assume that the covariance matrix of the errors is correctly specified.\n"
     ]
    }
   ],
   "source": [
    "mod_b0 = sm.OLS(y0, X0).fit()\n",
    "print (mod_b0.summary())"
   ]
  },
  {
   "cell_type": "code",
   "execution_count": 11,
   "metadata": {},
   "outputs": [
    {
     "name": "stdout",
     "output_type": "stream",
     "text": [
      "                            OLS Regression Results                            \n",
      "==============================================================================\n",
      "Dep. Variable:               SALES0_1   R-squared:                       0.808\n",
      "Model:                            OLS   Adj. R-squared:                  0.807\n",
      "Method:                 Least Squares   F-statistic:                     1044.\n",
      "Date:                Sun, 13 May 2018   Prob (F-statistic):           7.20e-91\n",
      "Time:                        11:15:48   Log-Likelihood:                -192.10\n",
      "No. Observations:                 250   AIC:                             388.2\n",
      "Df Residuals:                     248   BIC:                             395.2\n",
      "Df Model:                           1                                         \n",
      "Covariance Type:            nonrobust                                         \n",
      "==============================================================================\n",
      "                 coef    std err          t      P>|t|      [0.025      0.975]\n",
      "------------------------------------------------------------------------------\n",
      "Intercept     99.8085      0.156    638.012      0.000      99.500     100.117\n",
      "PRICE1        -0.9659      0.030    -32.314      0.000      -1.025      -0.907\n",
      "==============================================================================\n",
      "Omnibus:                        3.237   Durbin-Watson:                   2.007\n",
      "Prob(Omnibus):                  0.198   Jarque-Bera (JB):                2.877\n",
      "Skew:                          -0.233   Prob(JB):                        0.237\n",
      "Kurtosis:                       3.243   Cond. No.                         25.6\n",
      "==============================================================================\n",
      "\n",
      "Warnings:\n",
      "[1] Standard Errors assume that the covariance matrix of the errors is correctly specified.\n"
     ]
    }
   ],
   "source": [
    "mod_b1 = sm.OLS(y1, X1).fit()\n",
    "print (mod_b1.summary())"
   ]
  },
  {
   "cell_type": "code",
   "execution_count": 12,
   "metadata": {},
   "outputs": [
    {
     "name": "stdout",
     "output_type": "stream",
     "text": [
      "                            OLS Regression Results                            \n",
      "==============================================================================\n",
      "Dep. Variable:               SALES0_5   R-squared:                       0.930\n",
      "Model:                            OLS   Adj. R-squared:                  0.930\n",
      "Method:                 Least Squares   F-statistic:                     3314.\n",
      "Date:                Sun, 13 May 2018   Prob (F-statistic):          1.65e-145\n",
      "Time:                        11:15:50   Log-Likelihood:                -191.50\n",
      "No. Observations:                 250   AIC:                             387.0\n",
      "Df Residuals:                     248   BIC:                             394.0\n",
      "Df Model:                           1                                         \n",
      "Covariance Type:            nonrobust                                         \n",
      "==============================================================================\n",
      "                 coef    std err          t      P>|t|      [0.025      0.975]\n",
      "------------------------------------------------------------------------------\n",
      "Intercept     99.8332      0.100    996.405      0.000      99.636     100.031\n",
      "PRICE5        -0.9733      0.017    -57.570      0.000      -1.007      -0.940\n",
      "==============================================================================\n",
      "Omnibus:                        2.989   Durbin-Watson:                   2.031\n",
      "Prob(Omnibus):                  0.224   Jarque-Bera (JB):                2.632\n",
      "Skew:                          -0.215   Prob(JB):                        0.268\n",
      "Kurtosis:                       3.260   Cond. No.                         18.4\n",
      "==============================================================================\n",
      "\n",
      "Warnings:\n",
      "[1] Standard Errors assume that the covariance matrix of the errors is correctly specified.\n"
     ]
    }
   ],
   "source": [
    "mod_b5 = sm.OLS(y5, X5).fit()\n",
    "print (mod_b5.summary())"
   ]
  },
  {
   "cell_type": "code",
   "execution_count": 13,
   "metadata": {},
   "outputs": [
    {
     "name": "stdout",
     "output_type": "stream",
     "text": [
      "                            OLS Regression Results                            \n",
      "==============================================================================\n",
      "Dep. Variable:              SALES0_10   R-squared:                       0.977\n",
      "Model:                            OLS   Adj. R-squared:                  0.977\n",
      "Method:                 Least Squares   F-statistic:                 1.049e+04\n",
      "Date:                Sun, 13 May 2018   Prob (F-statistic):          6.03e-205\n",
      "Time:                        11:15:51   Log-Likelihood:                -191.53\n",
      "No. Observations:                 250   AIC:                             387.1\n",
      "Df Residuals:                     248   BIC:                             394.1\n",
      "Df Model:                           1                                         \n",
      "Covariance Type:            nonrobust                                         \n",
      "==============================================================================\n",
      "                 coef    std err          t      P>|t|      [0.025      0.975]\n",
      "------------------------------------------------------------------------------\n",
      "Intercept     99.8898      0.068   1466.195      0.000      99.756     100.024\n",
      "PRICE10       -0.9850      0.010   -102.427      0.000      -1.004      -0.966\n",
      "==============================================================================\n",
      "Omnibus:                        2.889   Durbin-Watson:                   2.040\n",
      "Prob(Omnibus):                  0.236   Jarque-Bera (JB):                2.534\n",
      "Skew:                          -0.208   Prob(JB):                        0.282\n",
      "Kurtosis:                       3.265   Cond. No.                         14.8\n",
      "==============================================================================\n",
      "\n",
      "Warnings:\n",
      "[1] Standard Errors assume that the covariance matrix of the errors is correctly specified.\n"
     ]
    }
   ],
   "source": [
    "mod_b10 = sm.OLS(y10, X10).fit()\n",
    "print (mod_b10.summary())"
   ]
  },
  {
   "cell_type": "markdown",
   "metadata": {},
   "source": [
    "\n",
    "(b) Repeat the exercise above, but now consider the case where the event only directly affects sales, that is, set β = 0 and check the results for the four different values of α."
   ]
  },
  {
   "cell_type": "code",
   "execution_count": 15,
   "metadata": {},
   "outputs": [
    {
     "data": {
      "text/plain": [
       "Index(['PRICE0', 'PRICE1', 'PRICE5', 'PRICE10', 'SALES0_0', 'SALES0_1',\n",
       "       'SALES0_5', 'SALES0_10', 'SALES1_0', 'SALES1_1', 'SALES1_5',\n",
       "       'SALES1_10', 'SALES5_0', 'SALES5_1', 'SALES5_5', 'SALES5_10',\n",
       "       'SALES10_0', 'SALES10_1', 'SALES10_5', 'SALES10_10'],\n",
       "      dtype='object')"
      ]
     },
     "execution_count": 15,
     "metadata": {},
     "output_type": "execute_result"
    }
   ],
   "source": [
    "df.columns"
   ]
  },
  {
   "cell_type": "code",
   "execution_count": 16,
   "metadata": {
    "collapsed": true
   },
   "outputs": [],
   "source": [
    "y0, X0 = dmatrices(\"SALES0_0 ~ PRICE0\", df)\n",
    "y1, X0= dmatrices(\"SALES1_0 ~ PRICE0\", df)\n",
    "y5, X0 = dmatrices(\"SALES5_0 ~ PRICE0\", df)\n",
    "y10, X0= dmatrices(\"SALES10_0 ~ PRICE0\", df)"
   ]
  },
  {
   "cell_type": "code",
   "execution_count": 17,
   "metadata": {},
   "outputs": [
    {
     "name": "stdout",
     "output_type": "stream",
     "text": [
      "                            OLS Regression Results                            \n",
      "==============================================================================\n",
      "Dep. Variable:               SALES0_0   R-squared:                       0.794\n",
      "Model:                            OLS   Adj. R-squared:                  0.794\n",
      "Method:                 Least Squares   F-statistic:                     958.5\n",
      "Date:                Sun, 13 May 2018   Prob (F-statistic):           3.61e-87\n",
      "Time:                        12:15:12   Log-Likelihood:                -192.46\n",
      "No. Observations:                 250   AIC:                             388.9\n",
      "Df Residuals:                     248   BIC:                             396.0\n",
      "Df Model:                           1                                         \n",
      "Covariance Type:            nonrobust                                         \n",
      "==============================================================================\n",
      "                 coef    std err          t      P>|t|      [0.025      0.975]\n",
      "------------------------------------------------------------------------------\n",
      "Intercept     99.8620      0.161    620.681      0.000      99.545     100.179\n",
      "PRICE0        -0.9758      0.032    -30.959      0.000      -1.038      -0.914\n",
      "==============================================================================\n",
      "Omnibus:                        3.184   Durbin-Watson:                   2.005\n",
      "Prob(Omnibus):                  0.204   Jarque-Bera (JB):                2.824\n",
      "Skew:                          -0.232   Prob(JB):                        0.244\n",
      "Kurtosis:                       3.237   Cond. No.                         25.7\n",
      "==============================================================================\n",
      "\n",
      "Warnings:\n",
      "[1] Standard Errors assume that the covariance matrix of the errors is correctly specified.\n"
     ]
    }
   ],
   "source": [
    "mod_a0 = sm.OLS(y0, X0).fit()\n",
    "print (mod_a0.summary())"
   ]
  },
  {
   "cell_type": "code",
   "execution_count": 18,
   "metadata": {},
   "outputs": [
    {
     "name": "stdout",
     "output_type": "stream",
     "text": [
      "                            OLS Regression Results                            \n",
      "==============================================================================\n",
      "Dep. Variable:               SALES1_0   R-squared:                       0.718\n",
      "Model:                            OLS   Adj. R-squared:                  0.717\n",
      "Method:                 Least Squares   F-statistic:                     632.0\n",
      "Date:                Sun, 13 May 2018   Prob (F-statistic):           3.73e-70\n",
      "Time:                        12:15:45   Log-Likelihood:                -242.79\n",
      "No. Observations:                 250   AIC:                             489.6\n",
      "Df Residuals:                     248   BIC:                             496.6\n",
      "Df Model:                           1                                         \n",
      "Covariance Type:            nonrobust                                         \n",
      "==============================================================================\n",
      "                 coef    std err          t      P>|t|      [0.025      0.975]\n",
      "------------------------------------------------------------------------------\n",
      "Intercept     99.9485      0.197    507.937      0.000      99.561     100.336\n",
      "PRICE0        -0.9691      0.039    -25.140      0.000      -1.045      -0.893\n",
      "==============================================================================\n",
      "Omnibus:                        2.965   Durbin-Watson:                   1.878\n",
      "Prob(Omnibus):                  0.227   Jarque-Bera (JB):                2.629\n",
      "Skew:                           0.234   Prob(JB):                        0.269\n",
      "Kurtosis:                       3.183   Cond. No.                         25.7\n",
      "==============================================================================\n",
      "\n",
      "Warnings:\n",
      "[1] Standard Errors assume that the covariance matrix of the errors is correctly specified.\n"
     ]
    }
   ],
   "source": [
    "mod_a1 = sm.OLS(y1, X0).fit()\n",
    "print (mod_a1.summary())"
   ]
  },
  {
   "cell_type": "code",
   "execution_count": 19,
   "metadata": {},
   "outputs": [
    {
     "name": "stdout",
     "output_type": "stream",
     "text": [
      "                            OLS Regression Results                            \n",
      "==============================================================================\n",
      "Dep. Variable:               SALES5_0   R-squared:                       0.243\n",
      "Model:                            OLS   Adj. R-squared:                  0.240\n",
      "Method:                 Least Squares   F-statistic:                     79.71\n",
      "Date:                Sun, 13 May 2018   Prob (F-statistic):           9.92e-17\n",
      "Time:                        12:15:47   Log-Likelihood:                -494.57\n",
      "No. Observations:                 250   AIC:                             993.1\n",
      "Df Residuals:                     248   BIC:                             1000.\n",
      "Df Model:                           1                                         \n",
      "Covariance Type:            nonrobust                                         \n",
      "==============================================================================\n",
      "                 coef    std err          t      P>|t|      [0.025      0.975]\n",
      "------------------------------------------------------------------------------\n",
      "Intercept    100.2943      0.539    186.176      0.000      99.233     101.355\n",
      "PRICE0        -0.9422      0.106     -8.928      0.000      -1.150      -0.734\n",
      "==============================================================================\n",
      "Omnibus:                      101.801   Durbin-Watson:                   1.946\n",
      "Prob(Omnibus):                  0.000   Jarque-Bera (JB):              246.050\n",
      "Skew:                           2.001   Prob(JB):                     3.72e-54\n",
      "Kurtosis:                       5.759   Cond. No.                         25.7\n",
      "==============================================================================\n",
      "\n",
      "Warnings:\n",
      "[1] Standard Errors assume that the covariance matrix of the errors is correctly specified.\n"
     ]
    }
   ],
   "source": [
    "mod_a5 = sm.OLS(y5, X0).fit()\n",
    "print (mod_a5.summary())"
   ]
  },
  {
   "cell_type": "code",
   "execution_count": 20,
   "metadata": {},
   "outputs": [
    {
     "name": "stdout",
     "output_type": "stream",
     "text": [
      "                            OLS Regression Results                            \n",
      "==============================================================================\n",
      "Dep. Variable:              SALES10_0   R-squared:                       0.076\n",
      "Model:                            OLS   Adj. R-squared:                  0.072\n",
      "Method:                 Least Squares   F-statistic:                     20.39\n",
      "Date:                Sun, 13 May 2018   Prob (F-statistic):           9.75e-06\n",
      "Time:                        12:15:48   Log-Likelihood:                -655.90\n",
      "No. Observations:                 250   AIC:                             1316.\n",
      "Df Residuals:                     248   BIC:                             1323.\n",
      "Df Model:                           1                                         \n",
      "Covariance Type:            nonrobust                                         \n",
      "==============================================================================\n",
      "                 coef    std err          t      P>|t|      [0.025      0.975]\n",
      "------------------------------------------------------------------------------\n",
      "Intercept    100.7267      1.027     98.071      0.000      98.704     102.750\n",
      "PRICE0        -0.9087      0.201     -4.516      0.000      -1.305      -0.512\n",
      "==============================================================================\n",
      "Omnibus:                      116.500   Durbin-Watson:                   1.991\n",
      "Prob(Omnibus):                  0.000   Jarque-Bera (JB):              319.999\n",
      "Skew:                           2.242   Prob(JB):                     3.26e-70\n",
      "Kurtosis:                       6.257   Cond. No.                         25.7\n",
      "==============================================================================\n",
      "\n",
      "Warnings:\n",
      "[1] Standard Errors assume that the covariance matrix of the errors is correctly specified.\n"
     ]
    }
   ],
   "source": [
    "mod_a10 = sm.OLS(y10, X0).fit()\n",
    "print (mod_a10.summary())"
   ]
  },
  {
   "cell_type": "code",
   "execution_count": null,
   "metadata": {
    "collapsed": true
   },
   "outputs": [],
   "source": []
  }
 ],
 "metadata": {
  "kernelspec": {
   "display_name": "Python 3",
   "language": "python",
   "name": "python3"
  },
  "language_info": {
   "codemirror_mode": {
    "name": "ipython",
    "version": 3
   },
   "file_extension": ".py",
   "mimetype": "text/x-python",
   "name": "python",
   "nbconvert_exporter": "python",
   "pygments_lexer": "ipython3",
   "version": "3.6.1"
  }
 },
 "nbformat": 4,
 "nbformat_minor": 2
}
