{
 "cells": [
  {
   "cell_type": "code",
   "execution_count": 2,
   "metadata": {},
   "outputs": [],
   "source": [
    "import pandas as pd\n",
    "import numpy as np \n",
    "import statsmodels.api as sm \n",
    "from patsy import dmatrices, dmatrix"
   ]
  },
  {
   "cell_type": "markdown",
   "metadata": {},
   "source": [
    "@author: Yiming Cai"
   ]
  },
  {
   "cell_type": "markdown",
   "metadata": {},
   "source": [
    "### Question (a)\n",
    "\n",
    "Use OLS to estimate the parameters of the model\n",
    "$$logw = \\beta_{1} + \\beta_{2}educ + \\beta_{3}exper + \\beta_{4}exper^{2} + \\beta_{5}smsa + \\beta_{6}south + \\epsilon $$\n",
    "Give an interpretation to the estimated β2 coefficient."
   ]
  },
  {
   "cell_type": "code",
   "execution_count": 2,
   "metadata": {},
   "outputs": [
    {
     "data": {
      "text/html": [
       "<div>\n",
       "<style scoped>\n",
       "    .dataframe tbody tr th:only-of-type {\n",
       "        vertical-align: middle;\n",
       "    }\n",
       "\n",
       "    .dataframe tbody tr th {\n",
       "        vertical-align: top;\n",
       "    }\n",
       "\n",
       "    .dataframe thead th {\n",
       "        text-align: right;\n",
       "    }\n",
       "</style>\n",
       "<table border=\"1\" class=\"dataframe\">\n",
       "  <thead>\n",
       "    <tr style=\"text-align: right;\">\n",
       "      <th></th>\n",
       "      <th>logw</th>\n",
       "      <th>educ</th>\n",
       "      <th>age</th>\n",
       "      <th>exper</th>\n",
       "      <th>smsa</th>\n",
       "      <th>south</th>\n",
       "      <th>nearc</th>\n",
       "      <th>daded</th>\n",
       "      <th>momed</th>\n",
       "    </tr>\n",
       "  </thead>\n",
       "  <tbody>\n",
       "    <tr>\n",
       "      <th>0</th>\n",
       "      <td>6.306275</td>\n",
       "      <td>7</td>\n",
       "      <td>29</td>\n",
       "      <td>16</td>\n",
       "      <td>1</td>\n",
       "      <td>0</td>\n",
       "      <td>0</td>\n",
       "      <td>9.94</td>\n",
       "      <td>10.25</td>\n",
       "    </tr>\n",
       "    <tr>\n",
       "      <th>1</th>\n",
       "      <td>6.175867</td>\n",
       "      <td>12</td>\n",
       "      <td>27</td>\n",
       "      <td>9</td>\n",
       "      <td>1</td>\n",
       "      <td>0</td>\n",
       "      <td>0</td>\n",
       "      <td>8.00</td>\n",
       "      <td>8.00</td>\n",
       "    </tr>\n",
       "    <tr>\n",
       "      <th>2</th>\n",
       "      <td>6.580639</td>\n",
       "      <td>12</td>\n",
       "      <td>34</td>\n",
       "      <td>16</td>\n",
       "      <td>1</td>\n",
       "      <td>0</td>\n",
       "      <td>0</td>\n",
       "      <td>14.00</td>\n",
       "      <td>12.00</td>\n",
       "    </tr>\n",
       "    <tr>\n",
       "      <th>3</th>\n",
       "      <td>5.521461</td>\n",
       "      <td>11</td>\n",
       "      <td>27</td>\n",
       "      <td>10</td>\n",
       "      <td>1</td>\n",
       "      <td>0</td>\n",
       "      <td>1</td>\n",
       "      <td>11.00</td>\n",
       "      <td>12.00</td>\n",
       "    </tr>\n",
       "    <tr>\n",
       "      <th>4</th>\n",
       "      <td>6.591674</td>\n",
       "      <td>12</td>\n",
       "      <td>34</td>\n",
       "      <td>16</td>\n",
       "      <td>1</td>\n",
       "      <td>0</td>\n",
       "      <td>1</td>\n",
       "      <td>8.00</td>\n",
       "      <td>7.00</td>\n",
       "    </tr>\n",
       "  </tbody>\n",
       "</table>\n",
       "</div>"
      ],
      "text/plain": [
       "       logw  educ  age  exper  smsa  south  nearc  daded  momed\n",
       "0  6.306275     7   29     16     1      0      0   9.94  10.25\n",
       "1  6.175867    12   27      9     1      0      0   8.00   8.00\n",
       "2  6.580639    12   34     16     1      0      0  14.00  12.00\n",
       "3  5.521461    11   27     10     1      0      1  11.00  12.00\n",
       "4  6.591674    12   34     16     1      0      1   8.00   7.00"
      ]
     },
     "execution_count": 2,
     "metadata": {},
     "output_type": "execute_result"
    }
   ],
   "source": [
    "df = pd.read_excel(\"Test4_data.xls\")\n",
    "df.head()"
   ]
  },
  {
   "cell_type": "code",
   "execution_count": 3,
   "metadata": {
    "collapsed": true
   },
   "outputs": [],
   "source": [
    "y, X = dmatrices(\"logw ~ educ + exper + np.square(exper) + smsa + south\", df)"
   ]
  },
  {
   "cell_type": "markdown",
   "metadata": {},
   "source": [
    ">The OLS estimation result is given as follows: "
   ]
  },
  {
   "cell_type": "code",
   "execution_count": 4,
   "metadata": {},
   "outputs": [
    {
     "name": "stdout",
     "output_type": "stream",
     "text": [
      "                            OLS Regression Results                            \n",
      "==============================================================================\n",
      "Dep. Variable:                   logw   R-squared:                       0.263\n",
      "Model:                            OLS   Adj. R-squared:                  0.262\n",
      "Method:                 Least Squares   F-statistic:                     214.6\n",
      "Date:                Sun, 13 May 2018   Prob (F-statistic):          3.70e-196\n",
      "Time:                        21:48:56   Log-Likelihood:                -1365.6\n",
      "No. Observations:                3010   AIC:                             2743.\n",
      "Df Residuals:                    3004   BIC:                             2779.\n",
      "Df Model:                           5                                         \n",
      "Covariance Type:            nonrobust                                         \n",
      "====================================================================================\n",
      "                       coef    std err          t      P>|t|      [0.025      0.975]\n",
      "------------------------------------------------------------------------------------\n",
      "Intercept            4.6110      0.068     67.914      0.000       4.478       4.744\n",
      "educ                 0.0816      0.003     23.315      0.000       0.075       0.088\n",
      "exper                0.0838      0.007     12.377      0.000       0.071       0.097\n",
      "np.square(exper)    -0.0022      0.000     -6.800      0.000      -0.003      -0.002\n",
      "smsa                 0.1508      0.016      9.523      0.000       0.120       0.182\n",
      "south               -0.1752      0.015    -11.959      0.000      -0.204      -0.146\n",
      "==============================================================================\n",
      "Omnibus:                       52.759   Durbin-Watson:                   1.853\n",
      "Prob(Omnibus):                  0.000   Jarque-Bera (JB):               62.537\n",
      "Skew:                          -0.261   Prob(JB):                     2.63e-14\n",
      "Kurtosis:                       3.476   Cond. No.                     1.26e+03\n",
      "==============================================================================\n",
      "\n",
      "Warnings:\n",
      "[1] Standard Errors assume that the covariance matrix of the errors is correctly specified.\n",
      "[2] The condition number is large, 1.26e+03. This might indicate that there are\n",
      "strong multicollinearity or other numerical problems.\n"
     ]
    }
   ],
   "source": [
    "mod = sm.OLS(y, X).fit()\n",
    "print (mod.summary())"
   ]
  },
  {
   "cell_type": "markdown",
   "metadata": {},
   "source": [
    "### Answer (a) \n",
    "\n",
    "> Other things being equal, taking one year education, the expected log of wage (logw) would increase by 0.086. Or put it another way, because $$ log(\\frac{w2}{w1}) = 0.0816 \\Rightarrow\\frac{w2}{w1} = e^{0.0816} = 1.085 \\Rightarrow w2 = (1+8.5\\%)w1 \\Rightarrow $$ one additional year of education is associated with 8.5% increase on expected wage level. "
   ]
  },
  {
   "cell_type": "markdown",
   "metadata": {},
   "source": [
    "### Question (b)\n",
    " \n",
    " OLS may be inconsistent in this case as __educ__ and __exper__ may be endogenous. Give a reason why this may be the case. Also indicate whether the estimate in part (a) is still useful."
   ]
  },
  {
   "cell_type": "markdown",
   "metadata": {},
   "source": [
    "### Answer (b)\n",
    "\n",
    "> educ and exper might be endogenous due to __ommited variables__. For example, individual's characteristics are likely to influence individual's educ and exper. Individual with higher intellectual ability and motivation would likely to obtain higher education, i.e., more number of years of schooling (educ). Also, people with hard-working ethics tend to have more working experience. All these characteristics are likely to positively influence wage level but not included in the model. Therefore, __educ__ and __exper__ are endogenouse, resulting estimate in part(a) being inconsistent. "
   ]
  },
  {
   "cell_type": "markdown",
   "metadata": {},
   "source": [
    "### Question (c)\n",
    " \n",
    " Give a motivation why __age__ and __age2__ can be used as instruments for exper and exper2.\n",
    "\n",
    "### Answer(c)\n",
    "\n",
    "> Older people tend to have longer working experience, nevertheless, the wage is unlikely to influenced by age itself. Therefore, __age__ and **age^{2}** is likely to be correlated with **exper** and **exper^{2}** but uncorrelated with error term ($\\epsilon$), which suffice them to be instruments for exper and exper2. "
   ]
  },
  {
   "cell_type": "markdown",
   "metadata": {},
   "source": [
    "### Question (d)\n",
    "\n",
    "Run the first-stage regression for __educ__ for the two-stage least squares estimation of the parameters in the model above when __age, age2, nearc, dadeduc, and momeduc__ are used as additional instruments. What do you conclude about the suitability of these instruments for schooling?"
   ]
  },
  {
   "cell_type": "code",
   "execution_count": 5,
   "metadata": {
    "collapsed": true
   },
   "outputs": [],
   "source": [
    "y2, X2 = dmatrices(\"educ ~ age + np.square(age) + nearc + daded + momed\", df)"
   ]
  },
  {
   "cell_type": "code",
   "execution_count": 6,
   "metadata": {},
   "outputs": [
    {
     "name": "stdout",
     "output_type": "stream",
     "text": [
      "                            OLS Regression Results                            \n",
      "==============================================================================\n",
      "Dep. Variable:                   educ   R-squared:                       0.233\n",
      "Model:                            OLS   Adj. R-squared:                  0.232\n",
      "Method:                 Least Squares   F-statistic:                     182.5\n",
      "Date:                Sun, 13 May 2018   Prob (F-statistic):          4.51e-170\n",
      "Time:                        21:48:56   Log-Likelihood:                -6835.1\n",
      "No. Observations:                3010   AIC:                         1.368e+04\n",
      "Df Residuals:                    3004   BIC:                         1.372e+04\n",
      "Df Model:                           5                                         \n",
      "Covariance Type:            nonrobust                                         \n",
      "==================================================================================\n",
      "                     coef    std err          t      P>|t|      [0.025      0.975]\n",
      "----------------------------------------------------------------------------------\n",
      "Intercept         -5.9233      4.011     -1.477      0.140     -13.787       1.940\n",
      "age                0.9926      0.281      3.531      0.000       0.441       1.544\n",
      "np.square(age)    -0.0171      0.005     -3.500      0.000      -0.027      -0.008\n",
      "nearc              0.5288      0.093      5.704      0.000       0.347       0.711\n",
      "daded              0.2020      0.016     12.898      0.000       0.171       0.233\n",
      "momed              0.2484      0.017     14.580      0.000       0.215       0.282\n",
      "==============================================================================\n",
      "Omnibus:                       21.480   Durbin-Watson:                   1.778\n",
      "Prob(Omnibus):                  0.000   Jarque-Bera (JB):               29.916\n",
      "Skew:                          -0.070   Prob(JB):                     3.19e-07\n",
      "Kurtosis:                       3.468   Cond. No.                     7.72e+04\n",
      "==============================================================================\n",
      "\n",
      "Warnings:\n",
      "[1] Standard Errors assume that the covariance matrix of the errors is correctly specified.\n",
      "[2] The condition number is large, 7.72e+04. This might indicate that there are\n",
      "strong multicollinearity or other numerical problems.\n"
     ]
    }
   ],
   "source": [
    "first_stage_mod = sm.OLS(y2, X2).fit()\n",
    "print (first_stage_mod.summary())"
   ]
  },
  {
   "cell_type": "markdown",
   "metadata": {},
   "source": [
    "The above result suggests: \n",
    "<ol>\n",
    "  <li>There are enough instruments.</li>\n",
    "  <li>The p-values suggest instruments are correlated with educ.</li>\n",
    "</ol>\n",
    "Therefore, these instruments are suitable for schooling. However, the validity of these instruments require following Sargon test.  "
   ]
  },
  {
   "cell_type": "markdown",
   "metadata": {},
   "source": [
    "### Question (e)\n",
    "\n",
    "Estimate the parameters of the model for log wage using two-stage least squares where you correct for the endogeneity of education and experience. Compare your result to the estimate in part (a)."
   ]
  },
  {
   "cell_type": "markdown",
   "metadata": {},
   "source": [
    "> As suggested by Quesiton (b) and Question (c). $age, age2, nearc, dadeduc, and momeduc$ can be used as instruments for $educ$, and $age$ and $age^{2}$ would be instruments for $expr$ and $expr^{2}$ respectively. "
   ]
  },
  {
   "cell_type": "code",
   "execution_count": 7,
   "metadata": {},
   "outputs": [
    {
     "name": "stdout",
     "output_type": "stream",
     "text": [
      "                            OLS Regression Results                            \n",
      "==============================================================================\n",
      "Dep. Variable:                  exper   R-squared:                       0.582\n",
      "Model:                            OLS   Adj. R-squared:                  0.582\n",
      "Method:                 Least Squares   F-statistic:                     4193.\n",
      "Date:                Sun, 13 May 2018   Prob (F-statistic):               0.00\n",
      "Time:                        21:48:57   Log-Likelihood:                -7234.2\n",
      "No. Observations:                3010   AIC:                         1.447e+04\n",
      "Df Residuals:                    3008   BIC:                         1.448e+04\n",
      "Df Model:                           1                                         \n",
      "Covariance Type:            nonrobust                                         \n",
      "==============================================================================\n",
      "                 coef    std err          t      P>|t|      [0.025      0.975]\n",
      "------------------------------------------------------------------------------\n",
      "Intercept    -19.4732      0.440    -44.236      0.000     -20.336     -18.610\n",
      "age            1.0075      0.016     64.754      0.000       0.977       1.038\n",
      "==============================================================================\n",
      "Omnibus:                       33.319   Durbin-Watson:                   1.593\n",
      "Prob(Omnibus):                  0.000   Jarque-Bera (JB):               35.593\n",
      "Skew:                           0.227   Prob(JB):                     1.87e-08\n",
      "Kurtosis:                       3.279   Cond. No.                         256.\n",
      "==============================================================================\n",
      "\n",
      "Warnings:\n",
      "[1] Standard Errors assume that the covariance matrix of the errors is correctly specified.\n"
     ]
    }
   ],
   "source": [
    "y3, X3 = dmatrices(\"exper ~  age \", df )\n",
    "expr_stage1_mod = sm.OLS(y3, X3).fit()\n",
    "print (expr_stage1_mod.summary())"
   ]
  },
  {
   "cell_type": "code",
   "execution_count": 8,
   "metadata": {},
   "outputs": [
    {
     "name": "stdout",
     "output_type": "stream",
     "text": [
      "                            OLS Regression Results                            \n",
      "==============================================================================\n",
      "Dep. Variable:       np.square(exper)   R-squared:                       0.553\n",
      "Model:                            OLS   Adj. R-squared:                  0.553\n",
      "Method:                 Least Squares   F-statistic:                     3723.\n",
      "Date:                Sun, 13 May 2018   Prob (F-statistic):               0.00\n",
      "Time:                        21:48:57   Log-Likelihood:                -16417.\n",
      "No. Observations:                3010   AIC:                         3.284e+04\n",
      "Df Residuals:                    3008   BIC:                         3.285e+04\n",
      "Df Model:                           1                                         \n",
      "Covariance Type:            nonrobust                                         \n",
      "==================================================================================\n",
      "                     coef    std err          t      P>|t|      [0.025      0.975]\n",
      "----------------------------------------------------------------------------------\n",
      "Intercept       -183.1527      4.683    -39.110      0.000    -192.335    -173.970\n",
      "np.square(age)     0.3482      0.006     61.017      0.000       0.337       0.359\n",
      "==============================================================================\n",
      "Omnibus:                      741.263   Durbin-Watson:                   1.629\n",
      "Prob(Omnibus):                  0.000   Jarque-Bera (JB):             2955.288\n",
      "Skew:                           1.158   Prob(JB):                         0.00\n",
      "Kurtosis:                       7.267   Cond. No.                     3.73e+03\n",
      "==============================================================================\n",
      "\n",
      "Warnings:\n",
      "[1] Standard Errors assume that the covariance matrix of the errors is correctly specified.\n",
      "[2] The condition number is large, 3.73e+03. This might indicate that there are\n",
      "strong multicollinearity or other numerical problems.\n"
     ]
    }
   ],
   "source": [
    "y4, X4 = dmatrices(\"np.square(exper) ~ np.square(age)\", df )\n",
    "expr2_stage1_mod = sm.OLS(y4, X4).fit()\n",
    "print (expr2_stage1_mod.summary())"
   ]
  },
  {
   "cell_type": "markdown",
   "metadata": {},
   "source": [
    "> Calculated the predicted values for $educ, exper, exper^{2}$"
   ]
  },
  {
   "cell_type": "code",
   "execution_count": 9,
   "metadata": {
    "collapsed": true
   },
   "outputs": [],
   "source": [
    "educ_explained = first_stage_mod.predict(X2)"
   ]
  },
  {
   "cell_type": "code",
   "execution_count": 10,
   "metadata": {
    "collapsed": true
   },
   "outputs": [],
   "source": [
    "exper_explained = expr_stage1_mod.predict(X3)"
   ]
  },
  {
   "cell_type": "code",
   "execution_count": 11,
   "metadata": {
    "collapsed": true
   },
   "outputs": [],
   "source": [
    "exper2_explained = expr2_stage1_mod.predict(X4)"
   ]
  },
  {
   "cell_type": "markdown",
   "metadata": {},
   "source": [
    "> Next, use the predicted values as variables the second stage OLS"
   ]
  },
  {
   "cell_type": "code",
   "execution_count": 12,
   "metadata": {
    "collapsed": true
   },
   "outputs": [],
   "source": [
    "df_2sls = df[[\"logw\",\"smsa\", \"south\"] ].copy()\n",
    "df_2sls[\"educ_explained\"] = educ_explained\n",
    "df_2sls[\"exper_explained\"] = exper_explained\n",
    "df_2sls[\"exper2_explained\"] = exper2_explained"
   ]
  },
  {
   "cell_type": "code",
   "execution_count": 13,
   "metadata": {},
   "outputs": [
    {
     "data": {
      "text/html": [
       "<div>\n",
       "<style scoped>\n",
       "    .dataframe tbody tr th:only-of-type {\n",
       "        vertical-align: middle;\n",
       "    }\n",
       "\n",
       "    .dataframe tbody tr th {\n",
       "        vertical-align: top;\n",
       "    }\n",
       "\n",
       "    .dataframe thead th {\n",
       "        text-align: right;\n",
       "    }\n",
       "</style>\n",
       "<table border=\"1\" class=\"dataframe\">\n",
       "  <thead>\n",
       "    <tr style=\"text-align: right;\">\n",
       "      <th></th>\n",
       "      <th>logw</th>\n",
       "      <th>smsa</th>\n",
       "      <th>south</th>\n",
       "      <th>educ_explained</th>\n",
       "      <th>exper_explained</th>\n",
       "      <th>exper2_explained</th>\n",
       "    </tr>\n",
       "  </thead>\n",
       "  <tbody>\n",
       "    <tr>\n",
       "      <th>0</th>\n",
       "      <td>6.306275</td>\n",
       "      <td>1</td>\n",
       "      <td>0</td>\n",
       "      <td>13.054551</td>\n",
       "      <td>9.743111</td>\n",
       "      <td>109.662945</td>\n",
       "    </tr>\n",
       "    <tr>\n",
       "      <th>1</th>\n",
       "      <td>6.175867</td>\n",
       "      <td>1</td>\n",
       "      <td>0</td>\n",
       "      <td>12.031066</td>\n",
       "      <td>7.728195</td>\n",
       "      <td>70.667282</td>\n",
       "    </tr>\n",
       "    <tr>\n",
       "      <th>2</th>\n",
       "      <td>6.580639</td>\n",
       "      <td>1</td>\n",
       "      <td>0</td>\n",
       "      <td>13.893543</td>\n",
       "      <td>14.780402</td>\n",
       "      <td>219.338246</td>\n",
       "    </tr>\n",
       "    <tr>\n",
       "      <th>3</th>\n",
       "      <td>5.521461</td>\n",
       "      <td>1</td>\n",
       "      <td>0</td>\n",
       "      <td>14.159474</td>\n",
       "      <td>7.728195</td>\n",
       "      <td>70.667282</td>\n",
       "    </tr>\n",
       "    <tr>\n",
       "      <th>4</th>\n",
       "      <td>6.591674</td>\n",
       "      <td>1</td>\n",
       "      <td>0</td>\n",
       "      <td>11.968116</td>\n",
       "      <td>14.780402</td>\n",
       "      <td>219.338246</td>\n",
       "    </tr>\n",
       "  </tbody>\n",
       "</table>\n",
       "</div>"
      ],
      "text/plain": [
       "       logw  smsa  south  educ_explained  exper_explained  exper2_explained\n",
       "0  6.306275     1      0       13.054551         9.743111        109.662945\n",
       "1  6.175867     1      0       12.031066         7.728195         70.667282\n",
       "2  6.580639     1      0       13.893543        14.780402        219.338246\n",
       "3  5.521461     1      0       14.159474         7.728195         70.667282\n",
       "4  6.591674     1      0       11.968116        14.780402        219.338246"
      ]
     },
     "execution_count": 13,
     "metadata": {},
     "output_type": "execute_result"
    }
   ],
   "source": [
    "df_2sls.head()"
   ]
  },
  {
   "cell_type": "code",
   "execution_count": 14,
   "metadata": {
    "collapsed": true
   },
   "outputs": [],
   "source": [
    "y, X_stage2 = dmatrices(\"logw ~ educ_explained + exper_explained+ exper2_explained+ smsa+ south\", df)"
   ]
  },
  {
   "cell_type": "code",
   "execution_count": 16,
   "metadata": {},
   "outputs": [
    {
     "name": "stdout",
     "output_type": "stream",
     "text": [
      "                            OLS Regression Results                            \n",
      "==============================================================================\n",
      "Dep. Variable:                   logw   R-squared:                       0.219\n",
      "Model:                            OLS   Adj. R-squared:                  0.218\n",
      "Method:                 Least Squares   F-statistic:                     168.6\n",
      "Date:                Sun, 13 May 2018   Prob (F-statistic):          2.00e-158\n",
      "Time:                        21:49:08   Log-Likelihood:                -1452.9\n",
      "No. Observations:                3010   AIC:                             2918.\n",
      "Df Residuals:                    3004   BIC:                             2954.\n",
      "Df Model:                           5                                         \n",
      "Covariance Type:            nonrobust                                         \n",
      "====================================================================================\n",
      "                       coef    std err          t      P>|t|      [0.025      0.975]\n",
      "------------------------------------------------------------------------------------\n",
      "Intercept            4.8025      0.197     24.322      0.000       4.415       5.190\n",
      "educ_explained       0.0543      0.006      9.243      0.000       0.043       0.066\n",
      "exper_explained      0.1246      0.047      2.648      0.008       0.032       0.217\n",
      "exper2_explained    -0.0042      0.002     -1.797      0.072      -0.009       0.000\n",
      "smsa                 0.1646      0.016     10.064      0.000       0.133       0.197\n",
      "south               -0.1862      0.015    -12.211      0.000      -0.216      -0.156\n",
      "==============================================================================\n",
      "Omnibus:                       58.465   Durbin-Watson:                   1.836\n",
      "Prob(Omnibus):                  0.000   Jarque-Bera (JB):               70.093\n",
      "Skew:                          -0.276   Prob(JB):                     6.02e-16\n",
      "Kurtosis:                       3.504   Cond. No.                     3.26e+03\n",
      "==============================================================================\n",
      "\n",
      "Warnings:\n",
      "[1] Standard Errors assume that the covariance matrix of the errors is correctly specified.\n",
      "[2] The condition number is large, 3.26e+03. This might indicate that there are\n",
      "strong multicollinearity or other numerical problems.\n"
     ]
    }
   ],
   "source": [
    "stage2_mod = sm.OLS(y, X_stage2).fit()\n",
    "print (stage2_mod.summary())"
   ]
  },
  {
   "cell_type": "markdown",
   "metadata": {},
   "source": [
    "> below is the estimate from (a), in comparison, the impact of education on wage becomes less but the effect of experience grows. The non-linear term exper^2 remains negative but almost doubles the effect. "
   ]
  },
  {
   "cell_type": "code",
   "execution_count": 17,
   "metadata": {},
   "outputs": [
    {
     "name": "stdout",
     "output_type": "stream",
     "text": [
      "                            OLS Regression Results                            \n",
      "==============================================================================\n",
      "Dep. Variable:                   logw   R-squared:                       0.263\n",
      "Model:                            OLS   Adj. R-squared:                  0.262\n",
      "Method:                 Least Squares   F-statistic:                     214.6\n",
      "Date:                Sun, 13 May 2018   Prob (F-statistic):          3.70e-196\n",
      "Time:                        21:49:09   Log-Likelihood:                -1365.6\n",
      "No. Observations:                3010   AIC:                             2743.\n",
      "Df Residuals:                    3004   BIC:                             2779.\n",
      "Df Model:                           5                                         \n",
      "Covariance Type:            nonrobust                                         \n",
      "====================================================================================\n",
      "                       coef    std err          t      P>|t|      [0.025      0.975]\n",
      "------------------------------------------------------------------------------------\n",
      "Intercept            4.6110      0.068     67.914      0.000       4.478       4.744\n",
      "educ                 0.0816      0.003     23.315      0.000       0.075       0.088\n",
      "exper                0.0838      0.007     12.377      0.000       0.071       0.097\n",
      "np.square(exper)    -0.0022      0.000     -6.800      0.000      -0.003      -0.002\n",
      "smsa                 0.1508      0.016      9.523      0.000       0.120       0.182\n",
      "south               -0.1752      0.015    -11.959      0.000      -0.204      -0.146\n",
      "==============================================================================\n",
      "Omnibus:                       52.759   Durbin-Watson:                   1.853\n",
      "Prob(Omnibus):                  0.000   Jarque-Bera (JB):               62.537\n",
      "Skew:                          -0.261   Prob(JB):                     2.63e-14\n",
      "Kurtosis:                       3.476   Cond. No.                     1.26e+03\n",
      "==============================================================================\n",
      "\n",
      "Warnings:\n",
      "[1] Standard Errors assume that the covariance matrix of the errors is correctly specified.\n",
      "[2] The condition number is large, 1.26e+03. This might indicate that there are\n",
      "strong multicollinearity or other numerical problems.\n"
     ]
    }
   ],
   "source": [
    "print (mod.summary())"
   ]
  },
  {
   "cell_type": "markdown",
   "metadata": {},
   "source": [
    "### Question (f)\n",
    "\n",
    "Perform the Sargan test for validity of the instruments. What is your conclusion?"
   ]
  },
  {
   "cell_type": "markdown",
   "metadata": {},
   "source": [
    "> 1 . Calculate the residuals using formula $e_{2SLS} = y - Xb_{2SLS} $"
   ]
  },
  {
   "cell_type": "code",
   "execution_count": 18,
   "metadata": {
    "collapsed": true
   },
   "outputs": [],
   "source": [
    "e_2sls = df.logw.values  - stage2_mod.predict(X)"
   ]
  },
  {
   "cell_type": "markdown",
   "metadata": {},
   "source": [
    ">  2 . Regress $e_{2SLS}$ on $Z$, where $Z$ is (constant, age, age2, nearc, dadeduc, momeduc, smsa, south)"
   ]
  },
  {
   "cell_type": "code",
   "execution_count": 19,
   "metadata": {
    "collapsed": true
   },
   "outputs": [],
   "source": [
    "z = dmatrix(\"age + np.square(age) + nearc + daded + momed + smsa + south\",\n",
    "        data= df ,return_type= \"dataframe\")"
   ]
  },
  {
   "cell_type": "code",
   "execution_count": 20,
   "metadata": {},
   "outputs": [
    {
     "name": "stdout",
     "output_type": "stream",
     "text": [
      "                            OLS Regression Results                            \n",
      "==============================================================================\n",
      "Dep. Variable:                      y   R-squared:                       0.022\n",
      "Model:                            OLS   Adj. R-squared:                  0.020\n",
      "Method:                 Least Squares   F-statistic:                     9.757\n",
      "Date:                Sun, 13 May 2018   Prob (F-statistic):           4.53e-12\n",
      "Time:                        21:49:10   Log-Likelihood:                -1404.7\n",
      "No. Observations:                3010   AIC:                             2825.\n",
      "Df Residuals:                    3002   BIC:                             2873.\n",
      "Df Model:                           7                                         \n",
      "Covariance Type:            nonrobust                                         \n",
      "==================================================================================\n",
      "                     coef    std err          t      P>|t|      [0.025      0.975]\n",
      "----------------------------------------------------------------------------------\n",
      "Intercept          1.2780      0.660      1.935      0.053      -0.017       2.573\n",
      "age               -0.1058      0.046     -2.285      0.022      -0.197      -0.015\n",
      "np.square(age)     0.0018      0.001      2.292      0.022       0.000       0.003\n",
      "nearc              0.0242      0.016      1.469      0.142      -0.008       0.056\n",
      "daded              0.0058      0.003      2.230      0.026       0.001       0.011\n",
      "momed              0.0146      0.003      5.158      0.000       0.009       0.020\n",
      "smsa              -0.0122      0.017     -0.726      0.468      -0.045       0.021\n",
      "south              0.0158      0.015      1.044      0.296      -0.014       0.045\n",
      "==============================================================================\n",
      "Omnibus:                       53.838   Durbin-Watson:                   1.843\n",
      "Prob(Omnibus):                  0.000   Jarque-Bera (JB):               63.790\n",
      "Skew:                          -0.265   Prob(JB):                     1.41e-14\n",
      "Kurtosis:                       3.478   Cond. No.                     7.72e+04\n",
      "==============================================================================\n",
      "\n",
      "Warnings:\n",
      "[1] Standard Errors assume that the covariance matrix of the errors is correctly specified.\n",
      "[2] The condition number is large, 7.72e+04. This might indicate that there are\n",
      "strong multicollinearity or other numerical problems.\n"
     ]
    }
   ],
   "source": [
    "z_mod = sm.OLS(e_2sls, z).fit()\n",
    "print (z_mod.summary())"
   ]
  },
  {
   "cell_type": "markdown",
   "metadata": {},
   "source": [
    "> 3 . calculate $nR^{2}$, and $nR^{2} \\sim \\chi^{2}(m-k)$, where m = 8, k = 6"
   ]
  },
  {
   "cell_type": "code",
   "execution_count": 21,
   "metadata": {},
   "outputs": [
    {
     "data": {
      "text/plain": [
       "66.22"
      ]
     },
     "execution_count": 21,
     "metadata": {},
     "output_type": "execute_result"
    }
   ],
   "source": [
    "n = 3010\n",
    "R_2 = 0.022\n",
    "n * R_2 "
   ]
  },
  {
   "cell_type": "markdown",
   "metadata": {},
   "source": [
    "> since the critical value for $\\chi^{2}(2)$ at 5% confidence level is 5.99 and 66.22 > 5.99, therefore, we reject the null hypothesis and correlation Z and /epsilon is 0. \n",
    "\n",
    ">Conclusion: the instrument variables are actually not valid, further refinements are required. "
   ]
  }
 ],
 "metadata": {
  "kernelspec": {
   "display_name": "Python 3",
   "language": "python",
   "name": "python3"
  },
  "language_info": {
   "codemirror_mode": {
    "name": "ipython",
    "version": 3
   },
   "file_extension": ".py",
   "mimetype": "text/x-python",
   "name": "python",
   "nbconvert_exporter": "python",
   "pygments_lexer": "ipython3",
   "version": "3.6.1"
  }
 },
 "nbformat": 4,
 "nbformat_minor": 2
}
