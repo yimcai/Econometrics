{
 "cells": [
  {
   "cell_type": "code",
   "execution_count": 40,
   "metadata": {},
   "outputs": [],
   "source": [
    "import pandas as pd\n",
    "import numpy as np \n",
    "import statsmodels.api as sm \n",
    "from patsy import dmatrices, dmatrix"
   ]
  },
  {
   "cell_type": "markdown",
   "metadata": {},
   "source": [
    "@author: Yiming Cai"
   ]
  },
  {
   "cell_type": "markdown",
   "metadata": {},
   "source": [
    "### Question (a)\n",
    "\n",
    "Use OLS to estimate the parameters of the model\n",
    "$$logw = \\beta_{1} + \\beta_{2}educ + \\beta_{3}exper + \\beta_{4}exper^{2} + \\beta_{5}smsa + \\beta_{6}south + \\epsilon $$\n",
    "Give an interpretation to the estimated β2 coefficient."
   ]
  },
  {
   "cell_type": "code",
   "execution_count": 2,
   "metadata": {},
   "outputs": [
    {
     "data": {
      "text/html": [
       "<div>\n",
       "<style scoped>\n",
       "    .dataframe tbody tr th:only-of-type {\n",
       "        vertical-align: middle;\n",
       "    }\n",
       "\n",
       "    .dataframe tbody tr th {\n",
       "        vertical-align: top;\n",
       "    }\n",
       "\n",
       "    .dataframe thead th {\n",
       "        text-align: right;\n",
       "    }\n",
       "</style>\n",
       "<table border=\"1\" class=\"dataframe\">\n",
       "  <thead>\n",
       "    <tr style=\"text-align: right;\">\n",
       "      <th></th>\n",
       "      <th>logw</th>\n",
       "      <th>educ</th>\n",
       "      <th>age</th>\n",
       "      <th>exper</th>\n",
       "      <th>smsa</th>\n",
       "      <th>south</th>\n",
       "      <th>nearc</th>\n",
       "      <th>daded</th>\n",
       "      <th>momed</th>\n",
       "    </tr>\n",
       "  </thead>\n",
       "  <tbody>\n",
       "    <tr>\n",
       "      <th>0</th>\n",
       "      <td>6.306275</td>\n",
       "      <td>7</td>\n",
       "      <td>29</td>\n",
       "      <td>16</td>\n",
       "      <td>1</td>\n",
       "      <td>0</td>\n",
       "      <td>0</td>\n",
       "      <td>9.94</td>\n",
       "      <td>10.25</td>\n",
       "    </tr>\n",
       "    <tr>\n",
       "      <th>1</th>\n",
       "      <td>6.175867</td>\n",
       "      <td>12</td>\n",
       "      <td>27</td>\n",
       "      <td>9</td>\n",
       "      <td>1</td>\n",
       "      <td>0</td>\n",
       "      <td>0</td>\n",
       "      <td>8.00</td>\n",
       "      <td>8.00</td>\n",
       "    </tr>\n",
       "    <tr>\n",
       "      <th>2</th>\n",
       "      <td>6.580639</td>\n",
       "      <td>12</td>\n",
       "      <td>34</td>\n",
       "      <td>16</td>\n",
       "      <td>1</td>\n",
       "      <td>0</td>\n",
       "      <td>0</td>\n",
       "      <td>14.00</td>\n",
       "      <td>12.00</td>\n",
       "    </tr>\n",
       "    <tr>\n",
       "      <th>3</th>\n",
       "      <td>5.521461</td>\n",
       "      <td>11</td>\n",
       "      <td>27</td>\n",
       "      <td>10</td>\n",
       "      <td>1</td>\n",
       "      <td>0</td>\n",
       "      <td>1</td>\n",
       "      <td>11.00</td>\n",
       "      <td>12.00</td>\n",
       "    </tr>\n",
       "    <tr>\n",
       "      <th>4</th>\n",
       "      <td>6.591674</td>\n",
       "      <td>12</td>\n",
       "      <td>34</td>\n",
       "      <td>16</td>\n",
       "      <td>1</td>\n",
       "      <td>0</td>\n",
       "      <td>1</td>\n",
       "      <td>8.00</td>\n",
       "      <td>7.00</td>\n",
       "    </tr>\n",
       "  </tbody>\n",
       "</table>\n",
       "</div>"
      ],
      "text/plain": [
       "       logw  educ  age  exper  smsa  south  nearc  daded  momed\n",
       "0  6.306275     7   29     16     1      0      0   9.94  10.25\n",
       "1  6.175867    12   27      9     1      0      0   8.00   8.00\n",
       "2  6.580639    12   34     16     1      0      0  14.00  12.00\n",
       "3  5.521461    11   27     10     1      0      1  11.00  12.00\n",
       "4  6.591674    12   34     16     1      0      1   8.00   7.00"
      ]
     },
     "execution_count": 2,
     "metadata": {},
     "output_type": "execute_result"
    }
   ],
   "source": [
    "df = pd.read_excel(\"Test4_data.xls\")\n",
    "df.head()"
   ]
  },
  {
   "cell_type": "code",
   "execution_count": 3,
   "metadata": {
    "collapsed": true
   },
   "outputs": [],
   "source": [
    "y, X = dmatrices(\"logw ~ educ + exper + np.square(exper) + smsa + south\", df)"
   ]
  },
  {
   "cell_type": "markdown",
   "metadata": {},
   "source": [
    ">The OLS estimation result is given as follows: "
   ]
  },
  {
   "cell_type": "code",
   "execution_count": 4,
   "metadata": {},
   "outputs": [
    {
     "name": "stdout",
     "output_type": "stream",
     "text": [
      "                            OLS Regression Results                            \n",
      "==============================================================================\n",
      "Dep. Variable:                   logw   R-squared:                       0.263\n",
      "Model:                            OLS   Adj. R-squared:                  0.262\n",
      "Method:                 Least Squares   F-statistic:                     214.6\n",
      "Date:                Mon, 14 May 2018   Prob (F-statistic):          3.70e-196\n",
      "Time:                        20:28:05   Log-Likelihood:                -1365.6\n",
      "No. Observations:                3010   AIC:                             2743.\n",
      "Df Residuals:                    3004   BIC:                             2779.\n",
      "Df Model:                           5                                         \n",
      "Covariance Type:            nonrobust                                         \n",
      "====================================================================================\n",
      "                       coef    std err          t      P>|t|      [0.025      0.975]\n",
      "------------------------------------------------------------------------------------\n",
      "Intercept            4.6110      0.068     67.914      0.000       4.478       4.744\n",
      "educ                 0.0816      0.003     23.315      0.000       0.075       0.088\n",
      "exper                0.0838      0.007     12.377      0.000       0.071       0.097\n",
      "np.square(exper)    -0.0022      0.000     -6.800      0.000      -0.003      -0.002\n",
      "smsa                 0.1508      0.016      9.523      0.000       0.120       0.182\n",
      "south               -0.1752      0.015    -11.959      0.000      -0.204      -0.146\n",
      "==============================================================================\n",
      "Omnibus:                       52.759   Durbin-Watson:                   1.853\n",
      "Prob(Omnibus):                  0.000   Jarque-Bera (JB):               62.537\n",
      "Skew:                          -0.261   Prob(JB):                     2.63e-14\n",
      "Kurtosis:                       3.476   Cond. No.                     1.26e+03\n",
      "==============================================================================\n",
      "\n",
      "Warnings:\n",
      "[1] Standard Errors assume that the covariance matrix of the errors is correctly specified.\n",
      "[2] The condition number is large, 1.26e+03. This might indicate that there are\n",
      "strong multicollinearity or other numerical problems.\n"
     ]
    }
   ],
   "source": [
    "mod = sm.OLS(y, X).fit()\n",
    "print (mod.summary())"
   ]
  },
  {
   "cell_type": "markdown",
   "metadata": {},
   "source": [
    "### Answer (a) \n",
    "\n",
    "> Other things being equal, taking one year education, the expected log of wage (logw) would increase by 0.086. Or put it another way, because $$ log(\\frac{w2}{w1}) = 0.0816 \\Rightarrow\\frac{w2}{w1} = e^{0.0816} = 1.085 \\Rightarrow w2 = (1+8.5\\%)w1 \\Rightarrow $$ one additional year of education is associated with 8.5% increase on expected wage level. "
   ]
  },
  {
   "cell_type": "markdown",
   "metadata": {},
   "source": [
    "### Question (b)\n",
    " \n",
    " OLS may be inconsistent in this case as __educ__ and __exper__ may be endogenous. Give a reason why this may be the case. Also indicate whether the estimate in part (a) is still useful."
   ]
  },
  {
   "cell_type": "markdown",
   "metadata": {},
   "source": [
    "### Answer (b)\n",
    "\n",
    "> educ and exper might be endogenous due to __ommited variables__. For example, individual's characteristics are likely to influence individual's educ and exper. Individual with higher intellectual ability and motivation would likely to obtain higher education, i.e., more number of years of schooling (educ). Also, people with hard-working ethics tend to have more working experience. All these characteristics are likely to positively influence wage level but not included in the model. Therefore, __educ__ and __exper__ are endogenouse, resulting estimate in part(a) being inconsistent. "
   ]
  },
  {
   "cell_type": "markdown",
   "metadata": {},
   "source": [
    "### Question (c)\n",
    " \n",
    " Give a motivation why __age__ and __age2__ can be used as instruments for exper and exper2.\n",
    "\n",
    "### Answer(c)\n",
    "\n",
    "> Older people tend to have longer working experience, nevertheless, the wage is unlikely to influenced by age itself. Therefore, __age__ and **age^{2}** is likely to be correlated with **exper** and **exper^{2}** but uncorrelated with error term ($\\epsilon$), which suffice them to be instruments for exper and exper2. "
   ]
  },
  {
   "cell_type": "markdown",
   "metadata": {},
   "source": [
    "### Question (d)\n",
    "\n",
    "Run the first-stage regression for __educ__ for the two-stage least squares estimation of the parameters in the model above when __age, age2, nearc, dadeduc, and momeduc__ are used as additional instruments. What do you conclude about the suitability of these instruments for schooling?"
   ]
  },
  {
   "cell_type": "code",
   "execution_count": 21,
   "metadata": {},
   "outputs": [
    {
     "data": {
      "text/html": [
       "<div>\n",
       "<style scoped>\n",
       "    .dataframe tbody tr th:only-of-type {\n",
       "        vertical-align: middle;\n",
       "    }\n",
       "\n",
       "    .dataframe tbody tr th {\n",
       "        vertical-align: top;\n",
       "    }\n",
       "\n",
       "    .dataframe thead th {\n",
       "        text-align: right;\n",
       "    }\n",
       "</style>\n",
       "<table border=\"1\" class=\"dataframe\">\n",
       "  <thead>\n",
       "    <tr style=\"text-align: right;\">\n",
       "      <th></th>\n",
       "      <th>logw</th>\n",
       "      <th>educ</th>\n",
       "      <th>age</th>\n",
       "      <th>exper</th>\n",
       "      <th>smsa</th>\n",
       "      <th>south</th>\n",
       "      <th>nearc</th>\n",
       "      <th>daded</th>\n",
       "      <th>momed</th>\n",
       "    </tr>\n",
       "  </thead>\n",
       "  <tbody>\n",
       "    <tr>\n",
       "      <th>0</th>\n",
       "      <td>6.306275</td>\n",
       "      <td>7</td>\n",
       "      <td>29</td>\n",
       "      <td>16</td>\n",
       "      <td>1</td>\n",
       "      <td>0</td>\n",
       "      <td>0</td>\n",
       "      <td>9.94</td>\n",
       "      <td>10.25</td>\n",
       "    </tr>\n",
       "    <tr>\n",
       "      <th>1</th>\n",
       "      <td>6.175867</td>\n",
       "      <td>12</td>\n",
       "      <td>27</td>\n",
       "      <td>9</td>\n",
       "      <td>1</td>\n",
       "      <td>0</td>\n",
       "      <td>0</td>\n",
       "      <td>8.00</td>\n",
       "      <td>8.00</td>\n",
       "    </tr>\n",
       "    <tr>\n",
       "      <th>2</th>\n",
       "      <td>6.580639</td>\n",
       "      <td>12</td>\n",
       "      <td>34</td>\n",
       "      <td>16</td>\n",
       "      <td>1</td>\n",
       "      <td>0</td>\n",
       "      <td>0</td>\n",
       "      <td>14.00</td>\n",
       "      <td>12.00</td>\n",
       "    </tr>\n",
       "    <tr>\n",
       "      <th>3</th>\n",
       "      <td>5.521461</td>\n",
       "      <td>11</td>\n",
       "      <td>27</td>\n",
       "      <td>10</td>\n",
       "      <td>1</td>\n",
       "      <td>0</td>\n",
       "      <td>1</td>\n",
       "      <td>11.00</td>\n",
       "      <td>12.00</td>\n",
       "    </tr>\n",
       "    <tr>\n",
       "      <th>4</th>\n",
       "      <td>6.591674</td>\n",
       "      <td>12</td>\n",
       "      <td>34</td>\n",
       "      <td>16</td>\n",
       "      <td>1</td>\n",
       "      <td>0</td>\n",
       "      <td>1</td>\n",
       "      <td>8.00</td>\n",
       "      <td>7.00</td>\n",
       "    </tr>\n",
       "  </tbody>\n",
       "</table>\n",
       "</div>"
      ],
      "text/plain": [
       "       logw  educ  age  exper  smsa  south  nearc  daded  momed\n",
       "0  6.306275     7   29     16     1      0      0   9.94  10.25\n",
       "1  6.175867    12   27      9     1      0      0   8.00   8.00\n",
       "2  6.580639    12   34     16     1      0      0  14.00  12.00\n",
       "3  5.521461    11   27     10     1      0      1  11.00  12.00\n",
       "4  6.591674    12   34     16     1      0      1   8.00   7.00"
      ]
     },
     "execution_count": 21,
     "metadata": {},
     "output_type": "execute_result"
    }
   ],
   "source": [
    "df.head()"
   ]
  },
  {
   "cell_type": "code",
   "execution_count": 22,
   "metadata": {
    "collapsed": true
   },
   "outputs": [],
   "source": [
    "y2, X2 = dmatrices(\"educ ~ age + np.square(age) + nearc + daded + momed + smsa + south\", df)"
   ]
  },
  {
   "cell_type": "code",
   "execution_count": 23,
   "metadata": {},
   "outputs": [
    {
     "name": "stdout",
     "output_type": "stream",
     "text": [
      "                            OLS Regression Results                            \n",
      "==============================================================================\n",
      "Dep. Variable:                   educ   R-squared:                       0.247\n",
      "Model:                            OLS   Adj. R-squared:                  0.245\n",
      "Method:                 Least Squares   F-statistic:                     140.4\n",
      "Date:                Mon, 14 May 2018   Prob (F-statistic):          2.14e-179\n",
      "Time:                        20:28:44   Log-Likelihood:                -6808.2\n",
      "No. Observations:                3010   AIC:                         1.363e+04\n",
      "Df Residuals:                    3002   BIC:                         1.368e+04\n",
      "Df Model:                           7                                         \n",
      "Covariance Type:            nonrobust                                         \n",
      "==================================================================================\n",
      "                     coef    std err          t      P>|t|      [0.025      0.975]\n",
      "----------------------------------------------------------------------------------\n",
      "Intercept         -5.6524      3.976     -1.421      0.155     -13.449       2.144\n",
      "age                0.9896      0.279      3.551      0.000       0.443       1.536\n",
      "np.square(age)    -0.0170      0.005     -3.518      0.000      -0.027      -0.008\n",
      "nearc              0.2646      0.099      2.670      0.008       0.070       0.459\n",
      "daded              0.1904      0.016     12.199      0.000       0.160       0.221\n",
      "momed              0.2345      0.017     13.773      0.000       0.201       0.268\n",
      "smsa               0.5296      0.102      5.217      0.000       0.331       0.729\n",
      "south             -0.4249      0.091     -4.667      0.000      -0.603      -0.246\n",
      "==============================================================================\n",
      "Omnibus:                       13.809   Durbin-Watson:                   1.796\n",
      "Prob(Omnibus):                  0.001   Jarque-Bera (JB):               17.748\n",
      "Skew:                          -0.053   Prob(JB):                     0.000140\n",
      "Kurtosis:                       3.361   Cond. No.                     7.72e+04\n",
      "==============================================================================\n",
      "\n",
      "Warnings:\n",
      "[1] Standard Errors assume that the covariance matrix of the errors is correctly specified.\n",
      "[2] The condition number is large, 7.72e+04. This might indicate that there are\n",
      "strong multicollinearity or other numerical problems.\n"
     ]
    }
   ],
   "source": [
    "first_stage_mod = sm.OLS(y2, X2).fit()\n",
    "print (first_stage_mod.summary())"
   ]
  },
  {
   "cell_type": "markdown",
   "metadata": {},
   "source": [
    "The above result suggests: \n",
    "<ol>\n",
    "  <li>There are enough instruments.</li>\n",
    "  <li>The p-values suggest instruments are correlated with educ.</li>\n",
    "</ol>\n",
    "Therefore, these instruments are suitable for schooling. However, the validity of these instruments require following Sargon test.  "
   ]
  },
  {
   "cell_type": "markdown",
   "metadata": {},
   "source": [
    "### Question (e)\n",
    "\n",
    "Estimate the parameters of the model for log wage using two-stage least squares where you correct for the endogeneity of education and experience. Compare your result to the estimate in part (a)."
   ]
  },
  {
   "cell_type": "markdown",
   "metadata": {},
   "source": [
    "> As suggested by Quesiton (b) and Question (c). $age, age2, nearc, dadeduc, and momeduc$ can be used as instruments for $educ$, and $age$ and $age^{2}$ would be instruments for $expr$ and $expr^{2}$ respectively. "
   ]
  },
  {
   "cell_type": "code",
   "execution_count": 24,
   "metadata": {},
   "outputs": [
    {
     "name": "stdout",
     "output_type": "stream",
     "text": [
      "                            OLS Regression Results                            \n",
      "==============================================================================\n",
      "Dep. Variable:                  exper   R-squared:                       0.685\n",
      "Model:                            OLS   Adj. R-squared:                  0.685\n",
      "Method:                 Least Squares   F-statistic:                     933.7\n",
      "Date:                Mon, 14 May 2018   Prob (F-statistic):               0.00\n",
      "Time:                        20:29:12   Log-Likelihood:                -6808.2\n",
      "No. Observations:                3010   AIC:                         1.363e+04\n",
      "Df Residuals:                    3002   BIC:                         1.368e+04\n",
      "Df Model:                           7                                         \n",
      "Covariance Type:            nonrobust                                         \n",
      "==================================================================================\n",
      "                     coef    std err          t      P>|t|      [0.025      0.975]\n",
      "----------------------------------------------------------------------------------\n",
      "Intercept         -0.3476      3.976     -0.087      0.930      -8.144       7.449\n",
      "age                0.0104      0.279      0.037      0.970      -0.536       0.557\n",
      "np.square(age)     0.0170      0.005      3.518      0.000       0.008       0.027\n",
      "nearc             -0.2646      0.099     -2.670      0.008      -0.459      -0.070\n",
      "daded             -0.1904      0.016    -12.199      0.000      -0.221      -0.160\n",
      "momed             -0.2345      0.017    -13.773      0.000      -0.268      -0.201\n",
      "smsa              -0.5296      0.102     -5.217      0.000      -0.729      -0.331\n",
      "south              0.4249      0.091      4.667      0.000       0.246       0.603\n",
      "==============================================================================\n",
      "Omnibus:                       13.809   Durbin-Watson:                   1.796\n",
      "Prob(Omnibus):                  0.001   Jarque-Bera (JB):               17.748\n",
      "Skew:                           0.053   Prob(JB):                     0.000140\n",
      "Kurtosis:                       3.361   Cond. No.                     7.72e+04\n",
      "==============================================================================\n",
      "\n",
      "Warnings:\n",
      "[1] Standard Errors assume that the covariance matrix of the errors is correctly specified.\n",
      "[2] The condition number is large, 7.72e+04. This might indicate that there are\n",
      "strong multicollinearity or other numerical problems.\n"
     ]
    }
   ],
   "source": [
    "y3, X3 = dmatrices(\"exper ~ age + np.square(age) + nearc + daded + momed + smsa + south \", df )\n",
    "expr_stage1_mod = sm.OLS(y3, X3).fit()\n",
    "print (expr_stage1_mod.summary())"
   ]
  },
  {
   "cell_type": "code",
   "execution_count": 25,
   "metadata": {},
   "outputs": [
    {
     "name": "stdout",
     "output_type": "stream",
     "text": [
      "                            OLS Regression Results                            \n",
      "==============================================================================\n",
      "Dep. Variable:       np.square(exper)   R-squared:                       0.657\n",
      "Model:                            OLS   Adj. R-squared:                  0.656\n",
      "Method:                 Least Squares   F-statistic:                     820.4\n",
      "Date:                Mon, 14 May 2018   Prob (F-statistic):               0.00\n",
      "Time:                        20:29:23   Log-Likelihood:                -16020.\n",
      "No. Observations:                3010   AIC:                         3.206e+04\n",
      "Df Residuals:                    3002   BIC:                         3.210e+04\n",
      "Df Model:                           7                                         \n",
      "Covariance Type:            nonrobust                                         \n",
      "==================================================================================\n",
      "                     coef    std err          t      P>|t|      [0.025      0.975]\n",
      "----------------------------------------------------------------------------------\n",
      "Intercept        681.3828     84.846      8.031      0.000     515.021     847.744\n",
      "age              -54.0654      5.947     -9.091      0.000     -65.726     -42.405\n",
      "np.square(age)     1.2799      0.103     12.399      0.000       1.077       1.482\n",
      "nearc             -5.7804      2.114     -2.734      0.006      -9.926      -1.635\n",
      "daded             -3.3142      0.333     -9.949      0.000      -3.967      -2.661\n",
      "momed             -4.7333      0.363    -13.028      0.000      -5.446      -4.021\n",
      "smsa             -11.8031      2.166     -5.450      0.000     -16.050      -7.556\n",
      "south             10.6147      1.943      5.464      0.000       6.806      14.423\n",
      "==============================================================================\n",
      "Omnibus:                      658.664   Durbin-Watson:                   1.823\n",
      "Prob(Omnibus):                  0.000   Jarque-Bera (JB):             3018.668\n",
      "Skew:                           0.981   Prob(JB):                         0.00\n",
      "Kurtosis:                       7.496   Cond. No.                     7.72e+04\n",
      "==============================================================================\n",
      "\n",
      "Warnings:\n",
      "[1] Standard Errors assume that the covariance matrix of the errors is correctly specified.\n",
      "[2] The condition number is large, 7.72e+04. This might indicate that there are\n",
      "strong multicollinearity or other numerical problems.\n"
     ]
    }
   ],
   "source": [
    "y4, X4 = dmatrices(\"np.square(exper) ~ age + np.square(age) + nearc + daded + momed + smsa + south\", df )\n",
    "expr2_stage1_mod = sm.OLS(y4, X4).fit()\n",
    "print (expr2_stage1_mod.summary())"
   ]
  },
  {
   "cell_type": "markdown",
   "metadata": {},
   "source": [
    "> Calculated the predicted values for $educ, exper, exper^{2}$"
   ]
  },
  {
   "cell_type": "code",
   "execution_count": 26,
   "metadata": {
    "collapsed": true
   },
   "outputs": [],
   "source": [
    "educ_explained = first_stage_mod.predict(X2)"
   ]
  },
  {
   "cell_type": "code",
   "execution_count": 27,
   "metadata": {
    "collapsed": true
   },
   "outputs": [],
   "source": [
    "exper_explained = expr_stage1_mod.predict(X3)"
   ]
  },
  {
   "cell_type": "code",
   "execution_count": 28,
   "metadata": {
    "collapsed": true
   },
   "outputs": [],
   "source": [
    "exper2_explained = expr2_stage1_mod.predict(X4)"
   ]
  },
  {
   "cell_type": "markdown",
   "metadata": {},
   "source": [
    "> Next, use the predicted values as variables the second stage OLS"
   ]
  },
  {
   "cell_type": "code",
   "execution_count": 29,
   "metadata": {
    "collapsed": true
   },
   "outputs": [],
   "source": [
    "df_2sls = df[[\"logw\",\"smsa\", \"south\"] ].copy()\n",
    "df_2sls[\"educ_explained\"] = educ_explained\n",
    "df_2sls[\"exper_explained\"] = exper_explained\n",
    "df_2sls[\"exper2_explained\"] = exper2_explained"
   ]
  },
  {
   "cell_type": "code",
   "execution_count": 30,
   "metadata": {},
   "outputs": [
    {
     "data": {
      "text/html": [
       "<div>\n",
       "<style scoped>\n",
       "    .dataframe tbody tr th:only-of-type {\n",
       "        vertical-align: middle;\n",
       "    }\n",
       "\n",
       "    .dataframe tbody tr th {\n",
       "        vertical-align: top;\n",
       "    }\n",
       "\n",
       "    .dataframe thead th {\n",
       "        text-align: right;\n",
       "    }\n",
       "</style>\n",
       "<table border=\"1\" class=\"dataframe\">\n",
       "  <thead>\n",
       "    <tr style=\"text-align: right;\">\n",
       "      <th></th>\n",
       "      <th>logw</th>\n",
       "      <th>smsa</th>\n",
       "      <th>south</th>\n",
       "      <th>educ_explained</th>\n",
       "      <th>exper_explained</th>\n",
       "      <th>exper2_explained</th>\n",
       "    </tr>\n",
       "  </thead>\n",
       "  <tbody>\n",
       "    <tr>\n",
       "      <th>0</th>\n",
       "      <td>6.306275</td>\n",
       "      <td>1</td>\n",
       "      <td>0</td>\n",
       "      <td>13.559710</td>\n",
       "      <td>9.440290</td>\n",
       "      <td>96.593284</td>\n",
       "    </tr>\n",
       "    <tr>\n",
       "      <th>1</th>\n",
       "      <td>6.175867</td>\n",
       "      <td>1</td>\n",
       "      <td>0</td>\n",
       "      <td>12.589499</td>\n",
       "      <td>8.410501</td>\n",
       "      <td>78.458225</td>\n",
       "    </tr>\n",
       "    <tr>\n",
       "      <th>2</th>\n",
       "      <td>6.580639</td>\n",
       "      <td>1</td>\n",
       "      <td>0</td>\n",
       "      <td>14.330376</td>\n",
       "      <td>13.669624</td>\n",
       "      <td>207.685943</td>\n",
       "    </tr>\n",
       "    <tr>\n",
       "      <th>3</th>\n",
       "      <td>5.521461</td>\n",
       "      <td>1</td>\n",
       "      <td>0</td>\n",
       "      <td>14.363443</td>\n",
       "      <td>6.636557</td>\n",
       "      <td>43.802227</td>\n",
       "    </tr>\n",
       "    <tr>\n",
       "      <th>4</th>\n",
       "      <td>6.591674</td>\n",
       "      <td>1</td>\n",
       "      <td>0</td>\n",
       "      <td>12.279697</td>\n",
       "      <td>15.720303</td>\n",
       "      <td>245.456999</td>\n",
       "    </tr>\n",
       "  </tbody>\n",
       "</table>\n",
       "</div>"
      ],
      "text/plain": [
       "       logw  smsa  south  educ_explained  exper_explained  exper2_explained\n",
       "0  6.306275     1      0       13.559710         9.440290         96.593284\n",
       "1  6.175867     1      0       12.589499         8.410501         78.458225\n",
       "2  6.580639     1      0       14.330376        13.669624        207.685943\n",
       "3  5.521461     1      0       14.363443         6.636557         43.802227\n",
       "4  6.591674     1      0       12.279697        15.720303        245.456999"
      ]
     },
     "execution_count": 30,
     "metadata": {},
     "output_type": "execute_result"
    }
   ],
   "source": [
    "df_2sls.head()"
   ]
  },
  {
   "cell_type": "code",
   "execution_count": 31,
   "metadata": {
    "collapsed": true
   },
   "outputs": [],
   "source": [
    "y, X_stage2 = dmatrices(\"logw ~ educ_explained + exper_explained+ exper2_explained+ smsa+ south\", df)"
   ]
  },
  {
   "cell_type": "code",
   "execution_count": 32,
   "metadata": {},
   "outputs": [
    {
     "name": "stdout",
     "output_type": "stream",
     "text": [
      "                            OLS Regression Results                            \n",
      "==============================================================================\n",
      "Dep. Variable:                   logw   R-squared:                       0.219\n",
      "Model:                            OLS   Adj. R-squared:                  0.218\n",
      "Method:                 Least Squares   F-statistic:                     168.6\n",
      "Date:                Mon, 14 May 2018   Prob (F-statistic):          1.84e-158\n",
      "Time:                        20:29:46   Log-Likelihood:                -1452.9\n",
      "No. Observations:                3010   AIC:                             2918.\n",
      "Df Residuals:                    3004   BIC:                             2954.\n",
      "Df Model:                           5                                         \n",
      "Covariance Type:            nonrobust                                         \n",
      "====================================================================================\n",
      "                       coef    std err          t      P>|t|      [0.025      0.975]\n",
      "------------------------------------------------------------------------------------\n",
      "Intercept            4.4169      0.118     37.476      0.000       4.186       4.648\n",
      "educ_explained       0.0998      0.007     14.874      0.000       0.087       0.113\n",
      "exper_explained      0.0729      0.017      4.270      0.000       0.039       0.106\n",
      "exper2_explained    -0.0016      0.001     -1.915      0.056      -0.003    3.88e-05\n",
      "smsa                 0.1349      0.017      7.880      0.000       0.101       0.169\n",
      "south               -0.1590      0.016     -9.926      0.000      -0.190      -0.128\n",
      "==============================================================================\n",
      "Omnibus:                       58.101   Durbin-Watson:                   1.836\n",
      "Prob(Omnibus):                  0.000   Jarque-Bera (JB):               69.727\n",
      "Skew:                          -0.274   Prob(JB):                     7.23e-16\n",
      "Kurtosis:                       3.505   Cond. No.                     1.96e+03\n",
      "==============================================================================\n",
      "\n",
      "Warnings:\n",
      "[1] Standard Errors assume that the covariance matrix of the errors is correctly specified.\n",
      "[2] The condition number is large, 1.96e+03. This might indicate that there are\n",
      "strong multicollinearity or other numerical problems.\n"
     ]
    }
   ],
   "source": [
    "stage2_mod = sm.OLS(y, X_stage2).fit()\n",
    "print (stage2_mod.summary())"
   ]
  },
  {
   "cell_type": "markdown",
   "metadata": {},
   "source": [
    "> below is the estimate from (a), in comparison, the impact of education on wage becomes less but the effect of experience grows. The non-linear term exper^2 remains negative but almost doubles the effect. "
   ]
  },
  {
   "cell_type": "code",
   "execution_count": 34,
   "metadata": {},
   "outputs": [
    {
     "name": "stdout",
     "output_type": "stream",
     "text": [
      "                            OLS Regression Results                            \n",
      "==============================================================================\n",
      "Dep. Variable:                   logw   R-squared:                       0.263\n",
      "Model:                            OLS   Adj. R-squared:                  0.262\n",
      "Method:                 Least Squares   F-statistic:                     214.6\n",
      "Date:                Mon, 14 May 2018   Prob (F-statistic):          3.70e-196\n",
      "Time:                        20:42:57   Log-Likelihood:                -1365.6\n",
      "No. Observations:                3010   AIC:                             2743.\n",
      "Df Residuals:                    3004   BIC:                             2779.\n",
      "Df Model:                           5                                         \n",
      "Covariance Type:            nonrobust                                         \n",
      "====================================================================================\n",
      "                       coef    std err          t      P>|t|      [0.025      0.975]\n",
      "------------------------------------------------------------------------------------\n",
      "Intercept            4.6110      0.068     67.914      0.000       4.478       4.744\n",
      "educ                 0.0816      0.003     23.315      0.000       0.075       0.088\n",
      "exper                0.0838      0.007     12.377      0.000       0.071       0.097\n",
      "np.square(exper)    -0.0022      0.000     -6.800      0.000      -0.003      -0.002\n",
      "smsa                 0.1508      0.016      9.523      0.000       0.120       0.182\n",
      "south               -0.1752      0.015    -11.959      0.000      -0.204      -0.146\n",
      "==============================================================================\n",
      "Omnibus:                       52.759   Durbin-Watson:                   1.853\n",
      "Prob(Omnibus):                  0.000   Jarque-Bera (JB):               62.537\n",
      "Skew:                          -0.261   Prob(JB):                     2.63e-14\n",
      "Kurtosis:                       3.476   Cond. No.                     1.26e+03\n",
      "==============================================================================\n",
      "\n",
      "Warnings:\n",
      "[1] Standard Errors assume that the covariance matrix of the errors is correctly specified.\n",
      "[2] The condition number is large, 1.26e+03. This might indicate that there are\n",
      "strong multicollinearity or other numerical problems.\n"
     ]
    }
   ],
   "source": [
    "print (mod.summary())"
   ]
  },
  {
   "cell_type": "markdown",
   "metadata": {},
   "source": [
    "### Question (f)\n",
    "\n",
    "Perform the Sargan test for validity of the instruments. What is your conclusion?"
   ]
  },
  {
   "cell_type": "markdown",
   "metadata": {},
   "source": [
    "> 1 . Calculate the residuals using formula $e_{2SLS} = y - Xb_{2SLS} $"
   ]
  },
  {
   "cell_type": "code",
   "execution_count": 35,
   "metadata": {
    "collapsed": true
   },
   "outputs": [],
   "source": [
    "e_2sls = df.logw.values  - stage2_mod.predict(X)"
   ]
  },
  {
   "cell_type": "markdown",
   "metadata": {},
   "source": [
    ">  2 . Regress $e_{2SLS}$ on $Z$, where $Z$ is (constant, age, age2, nearc, dadeduc, momeduc, smsa, south)"
   ]
  },
  {
   "cell_type": "code",
   "execution_count": 36,
   "metadata": {
    "collapsed": true
   },
   "outputs": [],
   "source": [
    "z = dmatrix(\"age + np.square(age) + nearc + daded + momed + smsa + south\",\n",
    "        data= df ,return_type= \"dataframe\")"
   ]
  },
  {
   "cell_type": "code",
   "execution_count": 37,
   "metadata": {},
   "outputs": [
    {
     "name": "stdout",
     "output_type": "stream",
     "text": [
      "                            OLS Regression Results                            \n",
      "==============================================================================\n",
      "Dep. Variable:                      y   R-squared:                       0.001\n",
      "Model:                            OLS   Adj. R-squared:                 -0.001\n",
      "Method:                 Least Squares   F-statistic:                    0.5282\n",
      "Date:                Mon, 14 May 2018   Prob (F-statistic):              0.814\n",
      "Time:                        20:43:06   Log-Likelihood:                -1388.1\n",
      "No. Observations:                3010   AIC:                             2792.\n",
      "Df Residuals:                    3002   BIC:                             2840.\n",
      "Df Model:                           7                                         \n",
      "Covariance Type:            nonrobust                                         \n",
      "==================================================================================\n",
      "                     coef    std err          t      P>|t|      [0.025      0.975]\n",
      "----------------------------------------------------------------------------------\n",
      "Intercept          0.1258      0.657      0.192      0.848      -1.162       1.414\n",
      "age               -0.0093      0.046     -0.203      0.839      -0.100       0.081\n",
      "np.square(age)     0.0002      0.001      0.199      0.842      -0.001       0.002\n",
      "nearc              0.0135      0.016      0.825      0.409      -0.019       0.046\n",
      "daded             -0.0041      0.003     -1.592      0.111      -0.009       0.001\n",
      "momed              0.0041      0.003      1.462      0.144      -0.001       0.010\n",
      "smsa              -0.0033      0.017     -0.200      0.842      -0.036       0.030\n",
      "south              0.0022      0.015      0.148      0.882      -0.027       0.032\n",
      "==============================================================================\n",
      "Omnibus:                       54.658   Durbin-Watson:                   1.864\n",
      "Prob(Omnibus):                  0.000   Jarque-Bera (JB):               65.671\n",
      "Skew:                          -0.263   Prob(JB):                     5.49e-15\n",
      "Kurtosis:                       3.498   Cond. No.                     7.72e+04\n",
      "==============================================================================\n",
      "\n",
      "Warnings:\n",
      "[1] Standard Errors assume that the covariance matrix of the errors is correctly specified.\n",
      "[2] The condition number is large, 7.72e+04. This might indicate that there are\n",
      "strong multicollinearity or other numerical problems.\n"
     ]
    }
   ],
   "source": [
    "z_mod = sm.OLS(e_2sls, z).fit()\n",
    "print (z_mod.summary())"
   ]
  },
  {
   "cell_type": "markdown",
   "metadata": {},
   "source": [
    "> 3 . calculate $nR^{2}$, and $nR^{2} \\sim \\chi^{2}(m-k)$, where m = 8, k = 6"
   ]
  },
  {
   "cell_type": "code",
   "execution_count": 39,
   "metadata": {},
   "outputs": [
    {
     "data": {
      "text/plain": [
       "3.7023886431634678"
      ]
     },
     "execution_count": 39,
     "metadata": {},
     "output_type": "execute_result"
    }
   ],
   "source": [
    "n = 3010\n",
    "R_2 = z_mod.rsquared\n",
    "n * R_2 "
   ]
  },
  {
   "cell_type": "markdown",
   "metadata": {},
   "source": [
    "> since the critical value for $\\chi^{2}(2)$ at 5% confidence level is 5.99 and 3.7 < 5.99, therefore, we reject the null hypothesis and correlation Z and /epsilon is 0. \n",
    "\n",
    ">Conclusion: the instrument variables are actually not valid, further refinements are required. "
   ]
  }
 ],
 "metadata": {
  "kernelspec": {
   "display_name": "Python 3",
   "language": "python",
   "name": "python3"
  },
  "language_info": {
   "codemirror_mode": {
    "name": "ipython",
    "version": 3
   },
   "file_extension": ".py",
   "mimetype": "text/x-python",
   "name": "python",
   "nbconvert_exporter": "python",
   "pygments_lexer": "ipython3",
   "version": "3.6.1"
  }
 },
 "nbformat": 4,
 "nbformat_minor": 2
}
