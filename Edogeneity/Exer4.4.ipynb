{
 "cells": [
  {
   "cell_type": "code",
   "execution_count": 43,
   "metadata": {},
   "outputs": [],
   "source": [
    "import pandas as pd\n",
    "import numpy as np \n",
    "import statsmodels.api as sm \n",
    "from patsy import dmatrices, dmatrix\n",
    "%matplotlib inline"
   ]
  },
  {
   "cell_type": "code",
   "execution_count": 4,
   "metadata": {},
   "outputs": [
    {
     "name": "stdout",
     "output_type": "stream",
     "text": [
      "*** No CODEPAGE record, no encoding_override: will use 'ascii'\n"
     ]
    }
   ],
   "source": [
    "df = pd.read_excel(\"TrainExer44.xls\")"
   ]
  },
  {
   "cell_type": "markdown",
   "metadata": {},
   "source": [
    "first stage"
   ]
  },
  {
   "cell_type": "markdown",
   "metadata": {},
   "source": [
    "(a) GC = β1 + β2PG + β3RI + ε"
   ]
  },
  {
   "cell_type": "markdown",
   "metadata": {},
   "source": [
    "(b) Use 2SLS to estimate the price elasticity (β2). Use a constant, RI, RPT, RPN, and RPU as instruments."
   ]
  },
  {
   "cell_type": "code",
   "execution_count": 6,
   "metadata": {},
   "outputs": [
    {
     "data": {
      "text/html": [
       "<div>\n",
       "<style scoped>\n",
       "    .dataframe tbody tr th:only-of-type {\n",
       "        vertical-align: middle;\n",
       "    }\n",
       "\n",
       "    .dataframe tbody tr th {\n",
       "        vertical-align: top;\n",
       "    }\n",
       "\n",
       "    .dataframe thead th {\n",
       "        text-align: right;\n",
       "    }\n",
       "</style>\n",
       "<table border=\"1\" class=\"dataframe\">\n",
       "  <thead>\n",
       "    <tr style=\"text-align: right;\">\n",
       "      <th></th>\n",
       "      <th>OBS</th>\n",
       "      <th>GC</th>\n",
       "      <th>PG</th>\n",
       "      <th>RI</th>\n",
       "      <th>RPN</th>\n",
       "      <th>RPT</th>\n",
       "      <th>RPU</th>\n",
       "    </tr>\n",
       "  </thead>\n",
       "  <tbody>\n",
       "    <tr>\n",
       "      <th>0</th>\n",
       "      <td>1970</td>\n",
       "      <td>6.714227</td>\n",
       "      <td>-0.100947</td>\n",
       "      <td>2.943489</td>\n",
       "      <td>0.311872</td>\n",
       "      <td>-0.097374</td>\n",
       "      <td>-0.218002</td>\n",
       "    </tr>\n",
       "    <tr>\n",
       "      <th>1</th>\n",
       "      <td>1971</td>\n",
       "      <td>6.765328</td>\n",
       "      <td>-0.137221</td>\n",
       "      <td>2.985432</td>\n",
       "      <td>0.309661</td>\n",
       "      <td>-0.068993</td>\n",
       "      <td>-0.204794</td>\n",
       "    </tr>\n",
       "    <tr>\n",
       "      <th>2</th>\n",
       "      <td>1972</td>\n",
       "      <td>6.830206</td>\n",
       "      <td>-0.156660</td>\n",
       "      <td>3.033986</td>\n",
       "      <td>0.268967</td>\n",
       "      <td>-0.061672</td>\n",
       "      <td>-0.233363</td>\n",
       "    </tr>\n",
       "  </tbody>\n",
       "</table>\n",
       "</div>"
      ],
      "text/plain": [
       "    OBS        GC        PG        RI       RPN       RPT       RPU\n",
       "0  1970  6.714227 -0.100947  2.943489  0.311872 -0.097374 -0.218002\n",
       "1  1971  6.765328 -0.137221  2.985432  0.309661 -0.068993 -0.204794\n",
       "2  1972  6.830206 -0.156660  3.033986  0.268967 -0.061672 -0.233363"
      ]
     },
     "execution_count": 6,
     "metadata": {},
     "output_type": "execute_result"
    }
   ],
   "source": [
    "df.head(3)"
   ]
  },
  {
   "cell_type": "code",
   "execution_count": 35,
   "metadata": {},
   "outputs": [
    {
     "name": "stdout",
     "output_type": "stream",
     "text": [
      "                            OLS Regression Results                            \n",
      "==============================================================================\n",
      "Dep. Variable:                     GC   R-squared:                       0.987\n",
      "Model:                            OLS   Adj. R-squared:                  0.986\n",
      "Method:                 Least Squares   F-statistic:                     1037.\n",
      "Date:                Sun, 13 May 2018   Prob (F-statistic):           2.94e-26\n",
      "Time:                        21:45:08   Log-Likelihood:                 71.096\n",
      "No. Observations:                  30   AIC:                            -136.2\n",
      "Df Residuals:                      27   BIC:                            -132.0\n",
      "Df Model:                           2                                         \n",
      "Covariance Type:            nonrobust                                         \n",
      "==============================================================================\n",
      "                 coef    std err          t      P>|t|      [0.025      0.975]\n",
      "------------------------------------------------------------------------------\n",
      "Intercept      4.9860      0.081     61.479      0.000       4.820       5.152\n",
      "PG            -0.5276      0.026    -20.046      0.000      -0.582      -0.474\n",
      "RI             0.5732      0.025     23.386      0.000       0.523       0.624\n",
      "==============================================================================\n",
      "Omnibus:                        1.057   Durbin-Watson:                   1.113\n",
      "Prob(Omnibus):                  0.589   Jarque-Bera (JB):                0.992\n",
      "Skew:                          -0.271   Prob(JB):                        0.609\n",
      "Kurtosis:                       2.293   Cond. No.                         68.8\n",
      "==============================================================================\n",
      "\n",
      "Warnings:\n",
      "[1] Standard Errors assume that the covariance matrix of the errors is correctly specified.\n"
     ]
    }
   ],
   "source": [
    "y,X = dmatrices(\"GC ~  PG + RI\", df)\n",
    "original_mod = sm.OLS(y, X).fit()\n",
    "print (original_mod.summary())"
   ]
  },
  {
   "cell_type": "code",
   "execution_count": 7,
   "metadata": {},
   "outputs": [
    {
     "name": "stdout",
     "output_type": "stream",
     "text": [
      "                            OLS Regression Results                            \n",
      "==============================================================================\n",
      "Dep. Variable:                     PG   R-squared:                       0.887\n",
      "Model:                            OLS   Adj. R-squared:                  0.869\n",
      "Method:                 Least Squares   F-statistic:                     48.97\n",
      "Date:                Sun, 13 May 2018   Prob (F-statistic):           1.80e-11\n",
      "Time:                        19:43:18   Log-Likelihood:                 38.812\n",
      "No. Observations:                  30   AIC:                            -67.62\n",
      "Df Residuals:                      25   BIC:                            -60.62\n",
      "Df Model:                           4                                         \n",
      "Covariance Type:            nonrobust                                         \n",
      "==============================================================================\n",
      "                 coef    std err          t      P>|t|      [0.025      0.975]\n",
      "------------------------------------------------------------------------------\n",
      "Intercept      7.7410      0.834      9.285      0.000       6.024       9.458\n",
      "RI            -2.2984      0.247     -9.303      0.000      -2.807      -1.790\n",
      "RPT           -0.8080      0.191     -4.225      0.000      -1.202      -0.414\n",
      "RPN           -3.5279      0.352    -10.023      0.000      -4.253      -2.803\n",
      "RPU            0.2331      0.183      1.273      0.215      -0.144       0.610\n",
      "==============================================================================\n",
      "Omnibus:                        2.308   Durbin-Watson:                   0.905\n",
      "Prob(Omnibus):                  0.315   Jarque-Bera (JB):                1.090\n",
      "Skew:                           0.209   Prob(JB):                        0.580\n",
      "Kurtosis:                       3.835   Cond. No.                         244.\n",
      "==============================================================================\n",
      "\n",
      "Warnings:\n",
      "[1] Standard Errors assume that the covariance matrix of the errors is correctly specified.\n"
     ]
    }
   ],
   "source": [
    "y1, X1 = dmatrices(\"PG ~ RI + RPT + RPN + RPU\", df)\n",
    "stage_1_mod = sm.OLS(y1, X1).fit()\n",
    "print (stage_1_mod.summary())"
   ]
  },
  {
   "cell_type": "code",
   "execution_count": 8,
   "metadata": {
    "collapsed": true
   },
   "outputs": [],
   "source": [
    "PG_explained = stage_1_mod.predict(X1)"
   ]
  },
  {
   "cell_type": "code",
   "execution_count": 19,
   "metadata": {},
   "outputs": [],
   "source": [
    "X2 = sm.add_constant(np.vstack([PG_explained, df.RI.values]).T)\n",
    "y2 = df.GC.values"
   ]
  },
  {
   "cell_type": "code",
   "execution_count": 21,
   "metadata": {},
   "outputs": [
    {
     "name": "stdout",
     "output_type": "stream",
     "text": [
      "                            OLS Regression Results                            \n",
      "==============================================================================\n",
      "Dep. Variable:                      y   R-squared:                       0.967\n",
      "Model:                            OLS   Adj. R-squared:                  0.964\n",
      "Method:                 Least Squares   F-statistic:                     393.3\n",
      "Date:                Sun, 13 May 2018   Prob (F-statistic):           1.08e-20\n",
      "Time:                        19:48:02   Log-Likelihood:                 56.859\n",
      "No. Observations:                  30   AIC:                            -107.7\n",
      "Df Residuals:                      27   BIC:                            -103.5\n",
      "Df Model:                           2                                         \n",
      "Covariance Type:            nonrobust                                         \n",
      "==============================================================================\n",
      "                 coef    std err          t      P>|t|      [0.025      0.975]\n",
      "------------------------------------------------------------------------------\n",
      "const          5.0137      0.134     37.456      0.000       4.739       5.288\n",
      "x1            -0.5444      0.046    -11.789      0.000      -0.639      -0.450\n",
      "x2             0.5647      0.041     13.942      0.000       0.482       0.648\n",
      "==============================================================================\n",
      "Omnibus:                        2.965   Durbin-Watson:                   0.663\n",
      "Prob(Omnibus):                  0.227   Jarque-Bera (JB):                2.503\n",
      "Skew:                           0.694   Prob(JB):                        0.286\n",
      "Kurtosis:                       2.730   Cond. No.                         70.9\n",
      "==============================================================================\n",
      "\n",
      "Warnings:\n",
      "[1] Standard Errors assume that the covariance matrix of the errors is correctly specified.\n"
     ]
    }
   ],
   "source": [
    "stage_2_mod = sm.OLS(y2, X2).fit()\n",
    "print (stage_2_mod.summary())"
   ]
  },
  {
   "cell_type": "code",
   "execution_count": 27,
   "metadata": {
    "collapsed": true
   },
   "outputs": [],
   "source": [
    "resid_s2 = y2 - stage_2_mod.predict(sm.add_constant(df[[\"PG\", \"RI\"]]))"
   ]
  },
  {
   "cell_type": "code",
   "execution_count": 36,
   "metadata": {
    "collapsed": true
   },
   "outputs": [],
   "source": [
    "resid_s2_test = y2 - stage_2_mod.predict(X)"
   ]
  },
  {
   "cell_type": "code",
   "execution_count": 28,
   "metadata": {},
   "outputs": [],
   "source": [
    "y3 = resid_s2\n",
    "X3 = dmatrix(\"RI + RPT + RPN + RPU +RI\", df)"
   ]
  },
  {
   "cell_type": "code",
   "execution_count": 46,
   "metadata": {},
   "outputs": [
    {
     "name": "stdout",
     "output_type": "stream",
     "text": [
      "                            OLS Regression Results                            \n",
      "==============================================================================\n",
      "Dep. Variable:                      y   R-squared:                       0.104\n",
      "Model:                            OLS   Adj. R-squared:                 -0.039\n",
      "Method:                 Least Squares   F-statistic:                    0.7267\n",
      "Date:                Sun, 13 May 2018   Prob (F-statistic):              0.582\n",
      "Time:                        21:47:09   Log-Likelihood:                 72.519\n",
      "No. Observations:                  30   AIC:                            -135.0\n",
      "Df Residuals:                      25   BIC:                            -128.0\n",
      "Df Model:                           4                                         \n",
      "Covariance Type:            nonrobust                                         \n",
      "==============================================================================\n",
      "                 coef    std err          t      P>|t|      [0.025      0.975]\n",
      "------------------------------------------------------------------------------\n",
      "const         -0.2098      0.271     -0.774      0.446      -0.768       0.348\n",
      "x1             0.0604      0.080      0.752      0.459      -0.105       0.226\n",
      "x2            -0.0512      0.062     -0.824      0.418      -0.179       0.077\n",
      "x3             0.0204      0.114      0.178      0.860      -0.215       0.256\n",
      "x4            -0.0702      0.060     -1.180      0.249      -0.193       0.052\n",
      "==============================================================================\n",
      "Omnibus:                        1.439   Durbin-Watson:                   1.349\n",
      "Prob(Omnibus):                  0.487   Jarque-Bera (JB):                1.292\n",
      "Skew:                          -0.368   Prob(JB):                        0.524\n",
      "Kurtosis:                       2.300   Cond. No.                         244.\n",
      "==============================================================================\n",
      "\n",
      "Warnings:\n",
      "[1] Standard Errors assume that the covariance matrix of the errors is correctly specified.\n"
     ]
    }
   ],
   "source": [
    "sargon_mod = sm.OLS(y3, X3).fit()\n",
    "print (sargon_mod.summary())"
   ]
  },
  {
   "cell_type": "markdown",
   "metadata": {},
   "source": [
    "$SargonStats = 30 * 0.104 = 3.12$"
   ]
  },
  {
   "cell_type": "code",
   "execution_count": null,
   "metadata": {
    "collapsed": true
   },
   "outputs": [],
   "source": []
  }
 ],
 "metadata": {
  "kernelspec": {
   "display_name": "Python 3",
   "language": "python",
   "name": "python3"
  },
  "language_info": {
   "codemirror_mode": {
    "name": "ipython",
    "version": 3
   },
   "file_extension": ".py",
   "mimetype": "text/x-python",
   "name": "python",
   "nbconvert_exporter": "python",
   "pygments_lexer": "ipython3",
   "version": "3.6.1"
  }
 },
 "nbformat": 4,
 "nbformat_minor": 2
}
